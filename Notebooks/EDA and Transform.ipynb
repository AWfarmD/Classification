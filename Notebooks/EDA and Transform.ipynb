{
 "cells": [
  {
   "cell_type": "code",
   "execution_count": 1,
   "id": "81a962d7",
   "metadata": {},
   "outputs": [],
   "source": [
    "import pandas as pd\n",
    "import matplotlib.pyplot as plt\n",
    "import seaborn as sns"
   ]
  },
  {
   "cell_type": "code",
   "execution_count": 2,
   "id": "44e6cfd5",
   "metadata": {},
   "outputs": [],
   "source": [
    "df = pd.read_csv('adopt.csv')"
   ]
  },
  {
   "cell_type": "code",
   "execution_count": 3,
   "id": "9a35b4e9",
   "metadata": {},
   "outputs": [
    {
     "data": {
      "text/html": [
       "<div>\n",
       "<style scoped>\n",
       "    .dataframe tbody tr th:only-of-type {\n",
       "        vertical-align: middle;\n",
       "    }\n",
       "\n",
       "    .dataframe tbody tr th {\n",
       "        vertical-align: top;\n",
       "    }\n",
       "\n",
       "    .dataframe thead th {\n",
       "        text-align: right;\n",
       "    }\n",
       "</style>\n",
       "<table border=\"1\" class=\"dataframe\">\n",
       "  <thead>\n",
       "    <tr style=\"text-align: right;\">\n",
       "      <th></th>\n",
       "      <th>name</th>\n",
       "      <th>type</th>\n",
       "      <th>breed</th>\n",
       "      <th>color</th>\n",
       "      <th>sex</th>\n",
       "      <th>size</th>\n",
       "      <th>shelter</th>\n",
       "      <th>days_in_shelter</th>\n",
       "      <th>intake_type</th>\n",
       "      <th>outcome</th>\n",
       "      <th>outcome_condition</th>\n",
       "      <th>age_in_days</th>\n",
       "      <th>outcome_day_of_week</th>\n",
       "    </tr>\n",
       "  </thead>\n",
       "  <tbody>\n",
       "    <tr>\n",
       "      <th>0</th>\n",
       "      <td>yes</td>\n",
       "      <td>CAT</td>\n",
       "      <td>SIAMESE</td>\n",
       "      <td>SEAL PT</td>\n",
       "      <td>Spayed</td>\n",
       "      <td>KITTN</td>\n",
       "      <td>CA03</td>\n",
       "      <td>6</td>\n",
       "      <td>OWNER SURRENDER</td>\n",
       "      <td>ADOPTION</td>\n",
       "      <td>PENDING</td>\n",
       "      <td>101</td>\n",
       "      <td>4</td>\n",
       "    </tr>\n",
       "    <tr>\n",
       "      <th>1</th>\n",
       "      <td>yes</td>\n",
       "      <td>CAT</td>\n",
       "      <td>DOMESTIC SH</td>\n",
       "      <td>BRN TABBY</td>\n",
       "      <td>Neutered</td>\n",
       "      <td>SMALL</td>\n",
       "      <td>CS05</td>\n",
       "      <td>20</td>\n",
       "      <td>STRAY</td>\n",
       "      <td>ADOPTION</td>\n",
       "      <td>PENDING</td>\n",
       "      <td>1116</td>\n",
       "      <td>4</td>\n",
       "    </tr>\n",
       "    <tr>\n",
       "      <th>2</th>\n",
       "      <td>yes</td>\n",
       "      <td>CAT</td>\n",
       "      <td>DOMESTIC SH</td>\n",
       "      <td>BLACK</td>\n",
       "      <td>Neutered</td>\n",
       "      <td>KITTN</td>\n",
       "      <td>WESTFARM</td>\n",
       "      <td>18</td>\n",
       "      <td>STRAY</td>\n",
       "      <td>ADOPTION</td>\n",
       "      <td>HEALTHY</td>\n",
       "      <td>129</td>\n",
       "      <td>2</td>\n",
       "    </tr>\n",
       "    <tr>\n",
       "      <th>3</th>\n",
       "      <td>yes</td>\n",
       "      <td>CAT</td>\n",
       "      <td>DOMESTIC SH</td>\n",
       "      <td>BLACK/WHITE</td>\n",
       "      <td>Spayed</td>\n",
       "      <td>KITTN</td>\n",
       "      <td>WESTFARM</td>\n",
       "      <td>18</td>\n",
       "      <td>STRAY</td>\n",
       "      <td>ADOPTION</td>\n",
       "      <td>HEALTHY</td>\n",
       "      <td>129</td>\n",
       "      <td>2</td>\n",
       "    </tr>\n",
       "    <tr>\n",
       "      <th>4</th>\n",
       "      <td>yes</td>\n",
       "      <td>DOG</td>\n",
       "      <td>LABRADOR RETR/MIX</td>\n",
       "      <td>BLUE/WHITE</td>\n",
       "      <td>Neutered</td>\n",
       "      <td>MED</td>\n",
       "      <td>DS72</td>\n",
       "      <td>1</td>\n",
       "      <td>CONFISCATE</td>\n",
       "      <td>RETURN TO OWNER</td>\n",
       "      <td>PENDING</td>\n",
       "      <td>398</td>\n",
       "      <td>4</td>\n",
       "    </tr>\n",
       "  </tbody>\n",
       "</table>\n",
       "</div>"
      ],
      "text/plain": [
       "  name type              breed        color       sex   size   shelter  \\\n",
       "0  yes  CAT            SIAMESE      SEAL PT    Spayed  KITTN      CA03   \n",
       "1  yes  CAT        DOMESTIC SH    BRN TABBY  Neutered  SMALL      CS05   \n",
       "2  yes  CAT        DOMESTIC SH        BLACK  Neutered  KITTN  WESTFARM   \n",
       "3  yes  CAT        DOMESTIC SH  BLACK/WHITE    Spayed  KITTN  WESTFARM   \n",
       "4  yes  DOG  LABRADOR RETR/MIX   BLUE/WHITE  Neutered    MED      DS72   \n",
       "\n",
       "   days_in_shelter      intake_type          outcome outcome_condition  \\\n",
       "0                6  OWNER SURRENDER         ADOPTION           PENDING   \n",
       "1               20            STRAY         ADOPTION           PENDING   \n",
       "2               18            STRAY         ADOPTION           HEALTHY   \n",
       "3               18            STRAY         ADOPTION           HEALTHY   \n",
       "4                1       CONFISCATE  RETURN TO OWNER           PENDING   \n",
       "\n",
       "   age_in_days  outcome_day_of_week  \n",
       "0          101                    4  \n",
       "1         1116                    4  \n",
       "2          129                    2  \n",
       "3          129                    2  \n",
       "4          398                    4  "
      ]
     },
     "execution_count": 3,
     "metadata": {},
     "output_type": "execute_result"
    }
   ],
   "source": [
    "df.head()"
   ]
  },
  {
   "cell_type": "code",
   "execution_count": 4,
   "id": "87da3427",
   "metadata": {},
   "outputs": [
    {
     "data": {
      "text/plain": [
       "count    15667.000000\n",
       "mean        20.434927\n",
       "std         36.200934\n",
       "min          0.000000\n",
       "25%          2.000000\n",
       "50%         11.000000\n",
       "75%         26.000000\n",
       "max        891.000000\n",
       "Name: days_in_shelter, dtype: float64"
      ]
     },
     "execution_count": 4,
     "metadata": {},
     "output_type": "execute_result"
    }
   ],
   "source": [
    "df.days_in_shelter.describe()"
   ]
  },
  {
   "cell_type": "code",
   "execution_count": 5,
   "id": "7ca2239d",
   "metadata": {},
   "outputs": [
    {
     "data": {
      "text/plain": [
       "(array([1.5267e+04, 3.0300e+02, 6.3000e+01, 1.3000e+01, 6.0000e+00,\n",
       "        3.0000e+00, 1.0000e+00, 0.0000e+00, 7.0000e+00, 4.0000e+00]),\n",
       " array([  0. ,  89.1, 178.2, 267.3, 356.4, 445.5, 534.6, 623.7, 712.8,\n",
       "        801.9, 891. ]),\n",
       " <BarContainer object of 10 artists>)"
      ]
     },
     "execution_count": 5,
     "metadata": {},
     "output_type": "execute_result"
    },
    {
     "data": {
      "image/png": "[encoded data removed]",
      "text/plain": [
       "<Figure size 432x288 with 1 Axes>"
      ]
     },
     "metadata": {
      "needs_background": "light"
     },
     "output_type": "display_data"
    }
   ],
   "source": [
    "plt.hist(df.days_in_shelter, log=True)"
   ]
  },
  {
   "cell_type": "code",
   "execution_count": 6,
   "id": "da27b530",
   "metadata": {},
   "outputs": [],
   "source": [
    "df_short = (df[df.days_in_shelter <= 90]).reset_index(drop=True)"
   ]
  },
  {
   "cell_type": "code",
   "execution_count": 7,
   "id": "cff14891",
   "metadata": {},
   "outputs": [
    {
     "data": {
      "text/plain": [
       "(15281, 13)"
      ]
     },
     "execution_count": 7,
     "metadata": {},
     "output_type": "execute_result"
    }
   ],
   "source": [
    "df_short.shape"
   ]
  },
  {
   "cell_type": "markdown",
   "id": "e7366675",
   "metadata": {},
   "source": [
    "# Target "
   ]
  },
  {
   "cell_type": "code",
   "execution_count": 8,
   "id": "90f92f6d",
   "metadata": {},
   "outputs": [
    {
     "data": {
      "text/plain": [
       "ADOPTION           6145\n",
       "RETURN TO OWNER    5389\n",
       "TRANSFER           2168\n",
       "EUTHANIZE          1460\n",
       "DIED                 55\n",
       "DISPOSAL             22\n",
       "RTOS                 21\n",
       "APPT                 18\n",
       "ESCAPED/STOLEN        3\n",
       "Name: outcome, dtype: int64"
      ]
     },
     "execution_count": 8,
     "metadata": {},
     "output_type": "execute_result"
    }
   ],
   "source": [
    "df_short.outcome.value_counts()"
   ]
  },
  {
   "cell_type": "code",
   "execution_count": 9,
   "id": "cfa94846",
   "metadata": {},
   "outputs": [],
   "source": [
    "df_short.outcome = (df_short.outcome\n",
    "              .apply(lambda x: \n",
    "                     'home' if x == 'ADOPTION' or x == 'RETURN TO OWNER' \n",
    "                         else 'no_home'))"
   ]
  },
  {
   "cell_type": "code",
   "execution_count": 10,
   "id": "e7a85684",
   "metadata": {},
   "outputs": [
    {
     "data": {
      "text/plain": [
       "home       0.754794\n",
       "no_home    0.245206\n",
       "Name: outcome, dtype: float64"
      ]
     },
     "execution_count": 10,
     "metadata": {},
     "output_type": "execute_result"
    }
   ],
   "source": [
    "outcome = df_short.outcome.value_counts(normalize=True)\n",
    "outcome"
   ]
  },
  {
   "cell_type": "code",
   "execution_count": 11,
   "id": "eeb99421",
   "metadata": {},
   "outputs": [
    {
     "name": "stderr",
     "output_type": "stream",
     "text": [
      "/Users/andywang/opt/anaconda3/lib/python3.8/site-packages/seaborn/_decorators.py:36: FutureWarning: Pass the following variables as keyword args: x, y. From version 0.12, the only valid positional argument will be `data`, and passing other arguments without an explicit keyword will result in an error or misinterpretation.\n",
      "  warnings.warn(\n"
     ]
    },
    {
     "data": {
      "text/plain": [
       "Text(0, 0.5, '%')"
      ]
     },
     "execution_count": 11,
     "metadata": {},
     "output_type": "execute_result"
    },
    {
     "data": {
      "image/png": "[encoded data removed]",
      "text/plain": [
       "<Figure size 432x288 with 1 Axes>"
      ]
     },
     "metadata": {
      "needs_background": "light"
     },
     "output_type": "display_data"
    }
   ],
   "source": [
    "sns.barplot(outcome.index, outcome.values)\n",
    "plt.title('Found a Home Ratio')\n",
    "plt.ylabel('%')"
   ]
  },
  {
   "cell_type": "code",
   "execution_count": 12,
   "id": "accb0436",
   "metadata": {},
   "outputs": [],
   "source": [
    "df_short['outcome'] = (df_short.outcome.apply(lambda x:\n",
    "                    1 if x == 'home' else 0))"
   ]
  },
  {
   "cell_type": "code",
   "execution_count": 13,
   "id": "36b5c6de",
   "metadata": {},
   "outputs": [
    {
     "data": {
      "text/plain": [
       "array([1, 0])"
      ]
     },
     "execution_count": 13,
     "metadata": {},
     "output_type": "execute_result"
    }
   ],
   "source": [
    "df_short.outcome.unique()"
   ]
  },
  {
   "cell_type": "markdown",
   "id": "614dbbeb",
   "metadata": {},
   "source": [
    "# FEATURES"
   ]
  },
  {
   "cell_type": "markdown",
   "id": "0f0f3ee5",
   "metadata": {},
   "source": [
    "## _Name_"
   ]
  },
  {
   "cell_type": "code",
   "execution_count": 14,
   "id": "db76bd36",
   "metadata": {},
   "outputs": [
    {
     "data": {
      "text/html": [
       "<div>\n",
       "<style scoped>\n",
       "    .dataframe tbody tr th:only-of-type {\n",
       "        vertical-align: middle;\n",
       "    }\n",
       "\n",
       "    .dataframe tbody tr th {\n",
       "        vertical-align: top;\n",
       "    }\n",
       "\n",
       "    .dataframe thead th {\n",
       "        text-align: right;\n",
       "    }\n",
       "</style>\n",
       "<table border=\"1\" class=\"dataframe\">\n",
       "  <thead>\n",
       "    <tr style=\"text-align: right;\">\n",
       "      <th></th>\n",
       "      <th>name</th>\n",
       "      <th>type</th>\n",
       "      <th>breed</th>\n",
       "      <th>color</th>\n",
       "      <th>sex</th>\n",
       "      <th>size</th>\n",
       "      <th>shelter</th>\n",
       "      <th>days_in_shelter</th>\n",
       "      <th>intake_type</th>\n",
       "      <th>outcome</th>\n",
       "      <th>outcome_condition</th>\n",
       "      <th>age_in_days</th>\n",
       "      <th>outcome_day_of_week</th>\n",
       "    </tr>\n",
       "  </thead>\n",
       "  <tbody>\n",
       "    <tr>\n",
       "      <th>0</th>\n",
       "      <td>yes</td>\n",
       "      <td>CAT</td>\n",
       "      <td>SIAMESE</td>\n",
       "      <td>SEAL PT</td>\n",
       "      <td>Spayed</td>\n",
       "      <td>KITTN</td>\n",
       "      <td>CA03</td>\n",
       "      <td>6</td>\n",
       "      <td>OWNER SURRENDER</td>\n",
       "      <td>1</td>\n",
       "      <td>PENDING</td>\n",
       "      <td>101</td>\n",
       "      <td>4</td>\n",
       "    </tr>\n",
       "    <tr>\n",
       "      <th>1</th>\n",
       "      <td>yes</td>\n",
       "      <td>CAT</td>\n",
       "      <td>DOMESTIC SH</td>\n",
       "      <td>BRN TABBY</td>\n",
       "      <td>Neutered</td>\n",
       "      <td>SMALL</td>\n",
       "      <td>CS05</td>\n",
       "      <td>20</td>\n",
       "      <td>STRAY</td>\n",
       "      <td>1</td>\n",
       "      <td>PENDING</td>\n",
       "      <td>1116</td>\n",
       "      <td>4</td>\n",
       "    </tr>\n",
       "    <tr>\n",
       "      <th>2</th>\n",
       "      <td>yes</td>\n",
       "      <td>CAT</td>\n",
       "      <td>DOMESTIC SH</td>\n",
       "      <td>BLACK</td>\n",
       "      <td>Neutered</td>\n",
       "      <td>KITTN</td>\n",
       "      <td>WESTFARM</td>\n",
       "      <td>18</td>\n",
       "      <td>STRAY</td>\n",
       "      <td>1</td>\n",
       "      <td>HEALTHY</td>\n",
       "      <td>129</td>\n",
       "      <td>2</td>\n",
       "    </tr>\n",
       "    <tr>\n",
       "      <th>3</th>\n",
       "      <td>yes</td>\n",
       "      <td>CAT</td>\n",
       "      <td>DOMESTIC SH</td>\n",
       "      <td>BLACK/WHITE</td>\n",
       "      <td>Spayed</td>\n",
       "      <td>KITTN</td>\n",
       "      <td>WESTFARM</td>\n",
       "      <td>18</td>\n",
       "      <td>STRAY</td>\n",
       "      <td>1</td>\n",
       "      <td>HEALTHY</td>\n",
       "      <td>129</td>\n",
       "      <td>2</td>\n",
       "    </tr>\n",
       "    <tr>\n",
       "      <th>4</th>\n",
       "      <td>yes</td>\n",
       "      <td>DOG</td>\n",
       "      <td>LABRADOR RETR/MIX</td>\n",
       "      <td>BLUE/WHITE</td>\n",
       "      <td>Neutered</td>\n",
       "      <td>MED</td>\n",
       "      <td>DS72</td>\n",
       "      <td>1</td>\n",
       "      <td>CONFISCATE</td>\n",
       "      <td>1</td>\n",
       "      <td>PENDING</td>\n",
       "      <td>398</td>\n",
       "      <td>4</td>\n",
       "    </tr>\n",
       "  </tbody>\n",
       "</table>\n",
       "</div>"
      ],
      "text/plain": [
       "  name type              breed        color       sex   size   shelter  \\\n",
       "0  yes  CAT            SIAMESE      SEAL PT    Spayed  KITTN      CA03   \n",
       "1  yes  CAT        DOMESTIC SH    BRN TABBY  Neutered  SMALL      CS05   \n",
       "2  yes  CAT        DOMESTIC SH        BLACK  Neutered  KITTN  WESTFARM   \n",
       "3  yes  CAT        DOMESTIC SH  BLACK/WHITE    Spayed  KITTN  WESTFARM   \n",
       "4  yes  DOG  LABRADOR RETR/MIX   BLUE/WHITE  Neutered    MED      DS72   \n",
       "\n",
       "   days_in_shelter      intake_type  outcome outcome_condition  age_in_days  \\\n",
       "0                6  OWNER SURRENDER        1           PENDING          101   \n",
       "1               20            STRAY        1           PENDING         1116   \n",
       "2               18            STRAY        1           HEALTHY          129   \n",
       "3               18            STRAY        1           HEALTHY          129   \n",
       "4                1       CONFISCATE        1           PENDING          398   \n",
       "\n",
       "   outcome_day_of_week  \n",
       "0                    4  \n",
       "1                    4  \n",
       "2                    2  \n",
       "3                    2  \n",
       "4                    4  "
      ]
     },
     "execution_count": 14,
     "metadata": {},
     "output_type": "execute_result"
    }
   ],
   "source": [
    "df_short.head()"
   ]
  },
  {
   "cell_type": "code",
   "execution_count": 15,
   "id": "ab109901",
   "metadata": {},
   "outputs": [
    {
     "data": {
      "text/plain": [
       "<AxesSubplot:xlabel='name', ylabel='count'>"
      ]
     },
     "execution_count": 15,
     "metadata": {},
     "output_type": "execute_result"
    },
    {
     "data": {
      "image/png": "[encoded data removed]",
      "text/plain": [
       "<Figure size 432x288 with 1 Axes>"
      ]
     },
     "metadata": {
      "needs_background": "light"
     },
     "output_type": "display_data"
    }
   ],
   "source": [
    "sns.countplot(x='name', data=df_short)"
   ]
  },
  {
   "cell_type": "code",
   "execution_count": 16,
   "id": "4dd4ef73",
   "metadata": {},
   "outputs": [],
   "source": [
    "df_short = pd.get_dummies(columns=['name'], drop_first=True, data=df_short)"
   ]
  },
  {
   "cell_type": "code",
   "execution_count": 17,
   "id": "8edf0a07",
   "metadata": {},
   "outputs": [
    {
     "data": {
      "text/plain": [
       "Index(['type', 'breed', 'color', 'sex', 'size', 'shelter', 'days_in_shelter',\n",
       "       'intake_type', 'outcome', 'outcome_condition', 'age_in_days',\n",
       "       'outcome_day_of_week', 'name_yes'],\n",
       "      dtype='object')"
      ]
     },
     "execution_count": 17,
     "metadata": {},
     "output_type": "execute_result"
    }
   ],
   "source": [
    "df_short.columns"
   ]
  },
  {
   "cell_type": "markdown",
   "id": "bc995032",
   "metadata": {},
   "source": [
    "## _Type_  "
   ]
  },
  {
   "cell_type": "code",
   "execution_count": 18,
   "id": "a83a7eb2",
   "metadata": {},
   "outputs": [
    {
     "data": {
      "text/plain": [
       "array(['CAT', 'DOG', 'OTHER'], dtype=object)"
      ]
     },
     "execution_count": 18,
     "metadata": {},
     "output_type": "execute_result"
    }
   ],
   "source": [
    "df_short.type.unique()"
   ]
  },
  {
   "cell_type": "code",
   "execution_count": 19,
   "id": "c18073dd",
   "metadata": {},
   "outputs": [
    {
     "data": {
      "text/plain": [
       "<AxesSubplot:xlabel='type', ylabel='count'>"
      ]
     },
     "execution_count": 19,
     "metadata": {},
     "output_type": "execute_result"
    },
    {
     "data": {
      "image/png": "[encoded data removed]",
      "text/plain": [
       "<Figure size 432x288 with 1 Axes>"
      ]
     },
     "metadata": {
      "needs_background": "light"
     },
     "output_type": "display_data"
    }
   ],
   "source": [
    "sns.countplot(x='type', data=df_short)"
   ]
  },
  {
   "cell_type": "code",
   "execution_count": 20,
   "id": "fc88c9f0",
   "metadata": {},
   "outputs": [],
   "source": [
    "df_short = pd.get_dummies(columns=['type'], drop_first=True, data=df_short)"
   ]
  },
  {
   "cell_type": "code",
   "execution_count": 21,
   "id": "7d95245f",
   "metadata": {},
   "outputs": [
    {
     "data": {
      "text/plain": [
       "Index(['breed', 'color', 'sex', 'size', 'shelter', 'days_in_shelter',\n",
       "       'intake_type', 'outcome', 'outcome_condition', 'age_in_days',\n",
       "       'outcome_day_of_week', 'name_yes', 'type_DOG', 'type_OTHER'],\n",
       "      dtype='object')"
      ]
     },
     "execution_count": 21,
     "metadata": {},
     "output_type": "execute_result"
    }
   ],
   "source": [
    "df_short.columns"
   ]
  },
  {
   "cell_type": "markdown",
   "id": "85df6266",
   "metadata": {},
   "source": [
    "## _Breed_"
   ]
  },
  {
   "cell_type": "code",
   "execution_count": 22,
   "id": "eff0ae8a",
   "metadata": {},
   "outputs": [
    {
     "data": {
      "text/plain": [
       "array(['SIAMESE', 'DOMESTIC SH', 'LABRADOR RETR/MIX', 'LABRADOR RETR',\n",
       "       'DOMESTIC LH', 'DOMESTIC MH', 'SHIBA INU', 'MIN PINSCHER/MIX',\n",
       "       'POODLE MIN', 'PIT BULL', 'BORDER COLLIE', 'GERM SHEPHERD/MIX',\n",
       "       'YORKSHIRE TERR', 'CHIHUAHUA SH/MIX', 'CHIHUAHUA SH',\n",
       "       'GERM SHEPHERD', 'SIAMESE/MIX', 'RAT TERRIER', 'PLOTT HOUND/MIX',\n",
       "       'CAIRN TERRIER/MIX', 'SIBERIAN HUSKY', 'CATAHOULA/LABRADOR RETR',\n",
       "       'QUEENSLAND HEEL/MIX', 'POMERANIAN', 'GERM SH POINT/PIT BULL',\n",
       "       'CHIHUAHUA SH/YORKSHIRE TERR', 'GREAT PYRENEES', 'PEKINGESE/MIX',\n",
       "       'PARSON RUSS TER/MIX', 'GOLDEN RETR', 'BOXER', 'BASSET HOUND',\n",
       "       'RAT TERRIER/MIX', 'TR WALKER HOUND/MIX', 'PIT BULL/MIX',\n",
       "       'ENG SPRNGR SPAN/MIX', 'BOSTON TERRIER', 'MIN PINSCHER',\n",
       "       'CHINESE CRESTED/POODLE TOY', 'ALASKAN HUSKY',\n",
       "       'AUST CATTLE DOG/MIX', 'GREAT PYRENEES/MIX',\n",
       "       'LABRADOR RETR/SIBERIAN HUSKY', 'DALMATIAN/AMERICAN STAFF',\n",
       "       'POINTER/MIX', 'YORKSHIRE TERR/PARSON RUSS TER', 'AMERICAN STAFF',\n",
       "       'PARSON RUSS TER/CHIHUAHUA SH', 'SHIH TZU', 'CATAHOULA',\n",
       "       'PIT BULL/LABRADOR RETR', 'CHIHUAHUA SH/PIT BULL',\n",
       "       'AM PIT BULL TER', 'PATTERDALE TERR', 'SC WHEAT TERR/MIX',\n",
       "       'FRENCH BULLDOG', 'BULL TERRIER', 'BOXER/AM PIT BULL TER',\n",
       "       'GERM SHEPHERD/SIBERIAN HUSKY', 'ALASKAN HUSKY/GERM SHEPHERD',\n",
       "       'BLOODHOUND/MIX', 'BULL TERRIER/LABRADOR RETR', 'ROTTWEILER',\n",
       "       'BICHON FRISE', 'BOXER/MIX', 'ROTTWEILER/GERM SHEPHERD',\n",
       "       'PIT BULL/AUST CATTLE DOG', 'FOX TERR SMOOTH', 'AUST CATTLE DOG',\n",
       "       'SIBERIAN HUSKY/MIX', 'ALASKAN HUSKY/PIT BULL', 'HARRIER/MIX',\n",
       "       'WELSH CORGI PEM/BORDER COLLIE', 'ROTTWEILER/MIX',\n",
       "       'POMERANIAN/MIX', 'SIBERIAN HUSKY/POODLE MIN', 'MALTESE',\n",
       "       'SCHNAUZER MIN/MIX', 'AUST KELPIE/MIX', 'BELG MALINOIS',\n",
       "       'DOBERMAN PINSCH/MIX', 'CHINESE SHARPEI/LABRADOR RETR',\n",
       "       'POODLE TOY', 'TIBETAN TERR/POODLE MIN', 'POODLE MIN/MIX', 'PUG',\n",
       "       'POODLE TOY/MIX', 'BORDER COLLIE/MIX',\n",
       "       'BORDER COLLIE/AUST CATTLE DOG', 'AUST SHEPHERD/MIX',\n",
       "       'LABRADOR RETR/POODLE STND', 'MASTIFF', 'BELG MALINOIS/MIX',\n",
       "       'AMERICAN', 'ALASKAN HUSKY/MIX', 'TOY FOX TERRIER/MIX',\n",
       "       'GERM SHEPHERD/WELSH CORGI CAR', 'PLOTT HOUND',\n",
       "       'YORKSHIRE TERR/MIX', 'CHIHUAHUA SH/DACHSHUND', 'CHIHUAHUA LH',\n",
       "       'BORDER COLLIE/ALASKAN HUSKY', 'CHIHUAHUA SH/CAIRN TERRIER',\n",
       "       'ANATOL SHEPHERD/MIX', 'CHOW CHOW/MIX', 'AMER BULLDOG',\n",
       "       'MUNCHKIN SH', 'AFFENPINSCHER', 'BEAGLE', 'BARRED ROCK',\n",
       "       'GREAT DANE', 'PARSON RUSS TER/PUG', 'TIBETAN TERR/MIX',\n",
       "       'COCKER SPAN', 'DUTCH SHEPHERD/MIX', 'COLLIE SMOOTH/MIX',\n",
       "       'LOP-ENGLISH', 'BLACK/TAN HOUND/MIX', 'BRITTANY/MIX',\n",
       "       'NETHERLND DWARF', 'SCHNAUZER MIN/DACHSHUND', 'PARSON RUSS TER',\n",
       "       'ENG FOXHOUND/MIX', 'COCKER SPAN/POODLE MIN', 'SCHNAUZER MIN',\n",
       "       'CATAHOULA/MIX', 'GUINEA PIG', 'AUST SHEPHERD',\n",
       "       'FOX TERR SMOOTH/MIX', 'CHIHUAHUA LH/MIX',\n",
       "       'GERM SHEPHERD/PIT BULL', 'SIBERIAN HUSKY/LABRADOR RETR',\n",
       "       'GERM SHEPHERD/ALASKAN HUSKY', 'DACHSHUND/MIX', 'AUST KELPIE',\n",
       "       'ENG BULLDOG', 'BENGAL/DOMESTIC SH', 'LABRADOR RETR/PIT BULL',\n",
       "       'ST BERNARD RGH/MIX', 'RHOD RIDGEBACK/MIX', 'HOTOT/MIX',\n",
       "       'GREAT PYRENEES/ANATOL SHEPHERD', 'QUEENSLAND HEEL',\n",
       "       'NEWFOUNDLAND', 'BOSTON TERRIER/PIT BULL', 'CAROLINA DOG',\n",
       "       'CHINESE SHARPEI/MIX', 'RABBIT SH', 'BORDER COLLIE/GERM SHEPHERD',\n",
       "       'PIG', 'MALTESE/SHIH TZU', 'TERRIER & MIX', 'CALIFORNIAN',\n",
       "       'PIT BULL/SIBERIAN HUSKY', 'FLORIDA WHITE',\n",
       "       'GERM SHEPHERD/BORDER COLLIE', 'BEAGLE/MIX', 'SHIH TZU/MIX',\n",
       "       'HIMALAYAN', 'TIBETAN SPAN/CHIHUAHUA LH', 'WEST HIGHLAND/MIX',\n",
       "       'COCKER SPAN/MIX', 'CAIRN TERRIER/CHIHUAHUA SH', 'CHINESE SHARPEI',\n",
       "       'RAT', 'AMER ESKIMO', 'DUTCH/MIX', 'DACHSHUND/PARSON RUSS TER',\n",
       "       'BRITISH SH', 'ABYSSINIAN', 'BORDER COLLIE/GREAT PYRENEES', 'MANX',\n",
       "       'DACHSHUND', 'BULLMASTIFF/MIX', 'COLLIE ROUGH/MIX', 'APPALOOSA',\n",
       "       'AKITA', 'ANATOL SHEPHERD', 'PIT BULL/BOXER',\n",
       "       'AUST CATTLE DOG/QUEENSLAND HEEL', 'HARLEQUIN/MIX',\n",
       "       'RHOD RIDGEBACK', 'PIT BULL/ROTTWEILER', 'GOLDEN RETR/POODLE STND',\n",
       "       'MALTESE/MIX', 'BEAGLE/WELSH CORGI PEM',\n",
       "       'PIT BULL/CHINESE SHARPEI', 'CAIRN TERRIER/SKYE TERRIER',\n",
       "       'GREAT DANE/LABRADOR RETR', 'AUST CATTLE DOG/PIT BULL',\n",
       "       'POTBELLY PIG', 'PIT BULL/BORDER COLLIE', 'PIT BULL/DALMATIAN',\n",
       "       'ST BERNARD SMTH', 'RAT TERRIER/PARSON RUSS TER', 'LHASA APSO',\n",
       "       'BORDER COLLIE/PIT BULL', 'ITAL GREYHOUND/MIN PINSCHER',\n",
       "       'LABRADOR RETR/ROTTWEILER', 'GREAT PYRENEES/CATAHOULA',\n",
       "       'PUG/BEAGLE', 'MALTESE/YORKSHIRE TERR', 'POODLE STND',\n",
       "       'SHETLD SHEEPDOG/MIX', 'POMERANIAN/ITAL GREYHOUND',\n",
       "       'GERM SHEPHERD/LABRADOR RETR', 'CAIRN TERRIER',\n",
       "       'WELSH CORGI CAR/MIX', 'BLUETICK HOUND',\n",
       "       'SIBERIAN HUSKY/GERM SHEPHERD', 'DACHSHUND/POODLE MIN',\n",
       "       'LABRADOR RETR/CATAHOULA', 'SHIH TZU/POODLE MIN',\n",
       "       'BICHON FRISE/MIX', 'ANGORA-ENGLISH', 'CANE CORSO/MASTIFF',\n",
       "       'BULLDOG/MIX', 'GOLDEN RETR/MIX', 'TR WALKER HOUND', 'CANE CORSO',\n",
       "       'SIBERIAN HUSKY/BELG SHEEPDOG', 'AMERICAN STAFF/GERM SHEPHERD',\n",
       "       'CHIHUAHUA SH/RAT TERRIER', 'YORKSHIRE TERR/FOX TERR WIRE',\n",
       "       'DACHSHUND LH/MIX', 'AIREDALE TERR/MIX',\n",
       "       'AUST KELPIE/BORDER COLLIE', 'CHOW CHOW', 'DOBERMAN PINSCH',\n",
       "       'WELSH CORGI PEM/MIX', 'BEAGLE/FOX TERR SMOOTH', 'PORT WATER DOG',\n",
       "       'BASSET HOUND/PIT BULL', 'AMER ESKIMO/MIX', 'SAMOYED/MIX',\n",
       "       'AKITA/LABRADOR RETR', 'SNOWSHOE/MIX', 'VIZSLA/MIX', 'BASENJI/MIX',\n",
       "       'LHASA APSO/MIX', 'PAPILLON/MIX', 'PARAKEET',\n",
       "       'YORKSHIRE TERR/POMERANIAN', 'PIT BULL/GERM SHEPHERD',\n",
       "       'JACK/FOX TERR SMOOTH', 'GREAT DANE/MIX', 'DACHSHUND/CHIHUAHUA SH',\n",
       "       'ENG SPRNGR SPAN', 'MASTIFF/MIX', 'JACK/BEAGLE', 'SILKY TERRIER',\n",
       "       'CATAHOULA/BULLDOG', 'PBGV/MIX', 'NEW ZEALAND WHT',\n",
       "       'REDBONE HOUND/MIX', 'ITAL GREYHOUND/CHIHUAHUA SH',\n",
       "       'LOP-HOLLAND/MIX', 'PEKINGESE/POODLE TOY', 'POMERANIAN/SCHIPPERKE',\n",
       "       'GERM SHEPHERD/AMERICAN STAFF', 'JAPANESE CHIN/CHIHUAHUA LH',\n",
       "       'HOTOT', 'HAVANA/MIX', 'MALTESE/POODLE MIN', 'ENG COONHOUND',\n",
       "       'GERM SHEPHERD/POINTER', 'BLACK/TAN HOUND', 'ALASK MALAMUTE',\n",
       "       'HAMSTER', 'CHIHUAHUA LH/POMERANIAN', 'AUST KELPIE/CATAHOULA',\n",
       "       'TOY FOX TERRIER/DACHSHUND', 'ENG POINTER',\n",
       "       'AKBASH/GREAT PYRENEES', 'MIN PINSCHER/CHIHUAHUA SH',\n",
       "       'CHIHUAHUA SH/PARSON RUSS TER', 'AUST TERRIER',\n",
       "       'LABRADOR RETR/MALTESE', 'GOAT/LA MANCHA', 'DOMESTIC SH/MIX',\n",
       "       'ALASK MALAMUTE/MIX', 'PEKINGESE', 'HAVANESE',\n",
       "       'BORDER COLLIE/QUEENSLAND HEEL', 'AMER BULLDOG/BOXER',\n",
       "       'DOBERMAN PINSCH/GERM SHEPHERD', 'EXOTIC SH', 'PALOMINO',\n",
       "       'GERM SH POINT', 'JACK/MIX', 'PIT BULL/BOSTON TERRIER',\n",
       "       'GERM SHEPHERD/AUST KELPIE', 'SHIH TZU/LHASA APSO',\n",
       "       'SHIH TZU/PARSON RUSS TER', 'MAREMMA SHEEPDG',\n",
       "       'LABRADOR RETR/BORDER COLLIE', 'ROTTWEILER/LABRADOR RETR',\n",
       "       'TIBETAN MASTIFF', 'BULLDOG', 'GOAT', 'SCHNAUZER STAND/MIX',\n",
       "       'LOP-MINI', 'CATAHOULA/QUEENSLAND HEEL', 'FRENCH BULLDOG/MIX',\n",
       "       'BLOODHOUND', 'LABRADOR RETR/GERM SHEPHERD',\n",
       "       'POODLE MIN/BICHON FRISE', 'ENG SETTER/AUST SHEPHERD',\n",
       "       'CHIHUAHUA SH/FOX TERR SMOOTH', 'LABRADOR RETR/AKITA',\n",
       "       'MASTIFF/GREAT DANE', 'CAVALIER SPAN', 'CAIRN TERRIER/POODLE MIN',\n",
       "       'LABRADOR RETR/CHOW CHOW', 'BASSET HOUND/MIX',\n",
       "       'RHOD RIDGEBACK/LABRADOR RETR', 'BORDER COLLIE/LABRADOR RETR',\n",
       "       'GREYHOUND', 'AM PIT BULL TER/MIX', 'LABRADOR RETR/AMERICAN STAFF',\n",
       "       'WEIMARANER', 'ENG BULLDOG/FRENCH BULLDOG', 'COCKATIEL',\n",
       "       'STAFFORDSHIRE', 'GERM SH POINT/MIX', 'WELSH CORGI PEM',\n",
       "       'CHIHUAHUA SH/POODLE MIN', 'MASTIFF/BOXER', 'CAVALIER SPAN/MIX',\n",
       "       'CHIHUAHUA SH/POMERANIAN', 'BOSTON TERRIER/RAT TERRIER',\n",
       "       'NORW ELKHOUND', 'BICHON FRISE/POODLE MIN', 'DACHSHUND/POMERANIAN',\n",
       "       'WELSH TERRIER/MIX', 'CHIHUAHUA LH/DACHSHUND LH',\n",
       "       'PARSON RUSS TER/BOSTON TERRIER', 'BULL TERRIER/BORDER COLLIE',\n",
       "       'ST BERNARD RGH', 'BASSET HOUND/PARSON RUSS TER',\n",
       "       'BULL TERRIER/MIX', 'RABBIT LH', 'SPANISH MASTIFF',\n",
       "       'PIT BULL/CATAHOULA', 'SNOWSHOE', 'SCOTTISH FOLD/MIX',\n",
       "       'PARSON RUSS TER/FOX TERR SMOOTH', 'AMER BULLDOG/PIT BULL',\n",
       "       'ENGLISH SPOT/MIX', 'FLAT COAT RETR/GERM SHEPHERD',\n",
       "       'ITAL GREYHOUND', 'HIMALAYAN/MIX', 'BORDER TERRIER/MIX',\n",
       "       'CHINESE CRESTED', 'RAT TERRIER/AUST CATTLE DOG',\n",
       "       'SIBERIAN HUSKY/AUST SHEPHERD', 'FLAT COAT RETR/MIX', 'REX/MIX',\n",
       "       'BRITTANY', 'DWARF HOTOT', 'POMERANIAN/SIBERIAN HUSKY', 'SHEEP',\n",
       "       'REDBONE HOUND', 'AUST TERRIER/MIX', 'RAT TERRIER/GERM SHEPHERD',\n",
       "       'PERUVIAN PASO', 'PIT BULL/BULLMASTIFF', 'BOUV FLANDRES',\n",
       "       'CAIRN TERRIER/POMERANIAN', 'FOX TERR SMOOTH/BORDER COLLIE',\n",
       "       'BORDER COLLIE/CATAHOULA', 'PERSIAN/MIX', 'JERSEY/MIX',\n",
       "       'BOSTON TERRIER/MIX', 'PUG/MIX', 'FRENCH BULLDOG/AM PIT BULL TER',\n",
       "       'BLACK MOUTH CUR/CATAHOULA', 'CATAHOULA/BLACK MOUTH CUR',\n",
       "       'SIBERIAN HUSKY/ALASK MALAMUTE', 'PARSON RUSS TER/COCKER SPAN',\n",
       "       'YORKSHIRE TERR/MALTESE', 'ABYSSINIAN/MIX', 'BLACK MOUTH CUR/MIX',\n",
       "       'BORDER COLLIE/BASENJI', 'LOP-HOLLAND', 'AMER BULLDOG/MIX',\n",
       "       'GR SWISS MTN/MIX', 'JERSEY', 'SAVANNAH',\n",
       "       'GOLDEN RETR/GERM SHEPHERD', 'REX', 'AMERICAN STAFF/MIX',\n",
       "       'CATAHOULA/SALUKI', 'POODLE STND/MIX', 'FLAT COAT RETR',\n",
       "       'NORWICH TERRIER/MIX', 'RAT TERRIER/BEAGLE',\n",
       "       'PARSON RUSS TER/BEAGLE', 'GOLDEN RETR/ROTTWEILER',\n",
       "       'SHIBA INU/MIX', 'LOP-ENGLISH/MIX', 'AKBASH/MIX',\n",
       "       'WELSH CORGI CAR', 'PARSON RUSS TER/DACHSHUND',\n",
       "       'PARSON RUSS TER/PIT BULL', 'CHINESE SHARPEI/DACHSHUND',\n",
       "       'LHASA APSO/CHIHUAHUA SH', 'CHIHUAHUA SH/MIN PINSCHER',\n",
       "       'AMERICAN STAFF/PIT BULL', 'WEST HIGHLAND/POODLE MIN',\n",
       "       'PUG/BOSTON TERRIER', 'ARABIAN', 'ROTTWEILER/BOXER',\n",
       "       'TIBETAN TERR/WELSH CORGI CAR', 'CHIHUAHUA SH/SCHIPPERKE',\n",
       "       'SCOTTISH FOLD', 'LABRADOR RETR/DOBERMAN PINSCH',\n",
       "       'BEAGLE/TOY FOX TERRIER', 'PARSON RUSS TER/LABRADOR RETR',\n",
       "       'KANGAL', 'BRUSS GRIFFON', 'BOXER/RHOD RIDGEBACK',\n",
       "       'POMERANIAN/POODLE MIN', 'MANCHESTER TERR/MIX',\n",
       "       'PIT BULL/AUST KELPIE', 'ROTTWEILER/ALASKAN HUSKY', 'AKITA/MIX',\n",
       "       'IRISH TERRIER', 'TOY FOX TERRIER',\n",
       "       'AUST CATTLE DOG/LABRADOR RETR', 'MAINE COON', 'POMERANIAN/PUG',\n",
       "       'BICHON FRISE/CAVALIER SPAN', 'ROTTWEILER/PIT BULL',\n",
       "       'CHIHUAHUA LH/PAPILLON', 'CATAHOULA/ROTTWEILER',\n",
       "       'YORKSHIRE TERR/LHASA APSO', 'AUST CATTLE DOG/AUST KELPIE',\n",
       "       'NEWFOUNDLAND/MIX', 'BOXER/ENG FOXHOUND', 'FOX TERR WIRE/MIX',\n",
       "       'CHICKEN', 'PERSIAN', 'RAT TERRIER/DACHSHUND',\n",
       "       'DOBERMAN PINSCH/AUST KELPIE', 'GERM WH POINT/MIX',\n",
       "       'COTON DE TULEAR', 'CHIHUAHUA SH/BEAGLE', 'ENG BULLDOG/PIT BULL',\n",
       "       'PAPILLON/CHIHUAHUA LH', 'CHIHUAHUA SH/MALTESE',\n",
       "       'LABRADOR RETR/BLOODHOUND', 'NORFOLK TERRIER/MIX',\n",
       "       'POODLE TOY/MALTESE', 'PARSON RUSS TER/BOXER', 'BURMESE',\n",
       "       'AMERICAN SABLE/MIX', 'POINTER/LABRADOR RETR',\n",
       "       'SCHNAUZER MIN/POODLE MIN', 'POMERANIAN/PAPILLON', 'DUTCH',\n",
       "       'BEARDED COLLIE/MIX', 'DOGUE DE BORDX',\n",
       "       'WEST HIGHLAND/CHIHUAHUA SH', 'BASSET HOUND/DACHSHUND',\n",
       "       'AUST SHEPHERD/GOLDEN RETR', 'BULLMASTIFF',\n",
       "       'RHOD RIDGEBACK/ROTTWEILER', 'BRUSS GRIFFON/MIX',\n",
       "       'LABRADOR RETR/FLAT COAT RETR', 'PALOMINO/MIX',\n",
       "       'DACHSHUND/AUST CATTLE DOG', 'PIT BULL/PEKINGESE', 'DALMATIAN',\n",
       "       'PARSON RUSS TER/POMERANIAN', 'DALMATIAN/MIX', 'CALIFORNIAN/MIX',\n",
       "       'PIT BULL/BASSET HOUND', 'PIT BULL/WEIMARANER', 'BOER',\n",
       "       'MALTESE/FOX TERR SMOOTH', 'LABRADOR RETR/AUST CATTLE DOG',\n",
       "       'WEST HIGHLAND', 'IRISH SETTER', 'PIT BULL/DACHSHUND',\n",
       "       'GERM WH POINT', 'LABRADOR RETR/BOXER',\n",
       "       'CHIHUAHUA LH/FOX TERR WIRE', 'DOBERMAN PINSCH/GOLDEN RETR',\n",
       "       'IRISH TERRIER/MIX', 'PIT BULL/PARSON RUSS TER',\n",
       "       'WELSH CORGI PEM/QUEENSLAND HEEL', 'BLUETICK HOUND/MIX',\n",
       "       'BURMESE/MIX', 'SC WHEAT TERR', 'LABRADOR RETR/GREAT PYRENEES',\n",
       "       'NORW BUHUND', 'LEONBERGER/MIX', 'YORKSHIRE TERR/POODLE TOY',\n",
       "       'CHINESE SHARPEI/BEAGLE', 'FOX TERR SMOOTH/BEAGLE',\n",
       "       'LABRADOR RETR/BELG MALINOIS', 'POMERANIAN/CHIHUAHUA SH',\n",
       "       'BEAGLE/PUG', 'VIZSLA', 'CHESA BAY RETR/MIX', 'LOP-FRENCH',\n",
       "       'FOX TERR WIRE', 'GERM SHEPHERD/QUEENSLAND HEEL',\n",
       "       'AUST TERRIER/CHIHUAHUA LH', 'BOSTON TERRIER/BORDER TERRIER',\n",
       "       'AKITA/GERM SHEPHERD', 'DOMESTIC LH/MAINE COON',\n",
       "       'RHOD RIDGEBACK/AM PIT BULL TER', 'CATAHOULA/BORDER COLLIE',\n",
       "       'GOAT/ALPINE', 'GERM SHEPHERD/WELSH CORGI PEM', 'ENG POINTER/MIX',\n",
       "       'POODLE STND/WELSH TERRIER', 'WHIPPET/MIX',\n",
       "       'PARSON RUSS TER/SCOT TERRIER', 'YORKSHIRE TERR/CAVALIER SPAN',\n",
       "       'GOLDEN RETR/BORDER COLLIE', 'BORDER COLLIE/BOXER',\n",
       "       'GERM SHEPHERD/ROTTWEILER', 'SHETLD SHEEPDOG',\n",
       "       'FOX TERR SMOOTH/CHIHUAHUA SH', 'GERM SHEPHERD/GREAT PYRENEES',\n",
       "       'ALASKAN HUSKY/BORDER COLLIE', 'BOXER/PIT BULL',\n",
       "       'SIBERIAN HUSKY/CHOW CHOW', 'POODLE MIN/LHASA APSO',\n",
       "       'PATTERDALE TERR/MIX', 'HORSE', 'AUST KELPIE/WHIPPET',\n",
       "       'PIT BULL/ALASK MALAMUTE', 'MANX/MIX', 'GOLDEN RETR/BASSET HOUND',\n",
       "       'CHESA BAY RETR', 'REX-MINI/MIX', 'DACHSHUND/COLLIE ROUGH',\n",
       "       'CAROLINA DOG/GERM SHEPHERD', 'BULL TERRIER/PARSON RUSS TER',\n",
       "       'AUST SHEPHERD/BORDER COLLIE', 'CATAHOULA/PLOTT HOUND',\n",
       "       'BLACK MOUTH CUR', 'TURKISH ANGORA',\n",
       "       'AUST SHEPHERD/WELSH CORGI PEM', 'AUST TERRIER/YORKSHIRE TERR',\n",
       "       'LABRADOR RETR/CHINESE SHARPEI', 'PARSON RUSS TER/DACHSHUND WH',\n",
       "       'GERM SHEPHERD/CHOW CHOW', 'MASTIFF/PIT BULL',\n",
       "       'BEAGLE/AMERICAN STAFF', 'BELG TERVUREN/GERM SHEPHERD',\n",
       "       'CHOW CHOW/GOLDEN RETR', 'PARSON RUSS TER/AUST KELPIE',\n",
       "       'BICHON FRISE/WEST HIGHLAND', 'CHIHUAHUA SH/SHIBA INU',\n",
       "       'ALASKAN HUSKY/LABRADOR RETR', 'BERNESE MTN DOG/MIX',\n",
       "       'AMERICAN/REX', 'EGYPTIAN MAU/MIX', 'PIT BULL/AMERICAN STAFF',\n",
       "       'LABRADOR RETR/GOLDEN RETR', 'POMERANIAN/PEKINGESE',\n",
       "       'ENG TOY SPANIEL', 'SIAMESE/DOMESTIC SH', 'RUSSIAN BLUE/MIX',\n",
       "       'PIT BULL/RHOD RIDGEBACK', 'PODENGO PEQUENO/MIX',\n",
       "       'PIT BULL/ITAL GREYHOUND', 'ROTTWEILER/AUST SHEPHERD',\n",
       "       'GERM SHEPHERD/BELG MALINOIS', 'BOXER/SHIBA INU',\n",
       "       'AKITA/CHOW CHOW', 'WEST HIGHLAND/MALTESE', 'BELG TERVUREN/MIX',\n",
       "       'WELSH TERRIER', 'DACHSHUND LH', 'CAIRN TERRIER/SCHNAUZER MIN',\n",
       "       'DACHSHUND WH/MIX', 'PARSON RUSS TER/WELSH CORGI CAR',\n",
       "       'IRISH WOLFHOUND', 'BELG MALINOIS/GERM SHEPHERD',\n",
       "       'PARSON RUSS TER/TIBETAN TERR', 'TOY FOX TERRIER/CHIHUAHUA SH',\n",
       "       'BENGAL', 'SHIH TZU/CHIHUAHUA LH', 'AKBASH',\n",
       "       'YORKSHIRE TERR/BRUSS GRIFFON', 'DOBERMAN PINSCH/ENG COONHOUND',\n",
       "       'BORDER COLLIE/BLACK/TAN HOUND', 'BEAGLE/PARSON RUSS TER',\n",
       "       'SCHIPPERKE/CHIHUAHUA LH', 'DOGO ARGENTINO',\n",
       "       'QUEENSLAND HEEL/AUST SHEPHERD', 'YORKSHIRE TERR/POODLE MIN',\n",
       "       'PAPILLON/PARSON RUSS TER', 'SIAMESE/MANX', 'BAT', 'PAPILLON',\n",
       "       'IBIZAN HOUND/BORDER COLLIE', 'GREAT PYRENEES/LABRADOR RETR',\n",
       "       'SILVER', 'SHIH TZU/YORKSHIRE TERR', 'STAFFORDSHIRE/MIX',\n",
       "       'SIBERIAN HUSKY/BOXER', 'CATAHOULA/AM PIT BULL TER',\n",
       "       'LOP-MINI/MIX', 'GERM SHEPHERD/DACHSHUND', 'RHOD RIDGEBACK/BOXER',\n",
       "       'AIREDALE TERR', 'RACCOON', 'POODLE MIN/WEST HIGHLAND',\n",
       "       'CHIHUAHUA LH/YORKSHIRE TERR', 'NEW ZEALAND WHT/MIX',\n",
       "       'POINTER/GERM SHEPHERD', 'MASTIFF/REDBONE HOUND',\n",
       "       'BOSTON TERRIER/FOX TERR SMOOTH', 'AUST CATTLE DOG/BELG MALINOIS',\n",
       "       'CAIRN TERRIER/YORKSHIRE TERR', 'ENG BULLDOG/MIX',\n",
       "       'CHIHUAHUA SH/SHETLD SHEEPDOG', 'GREAT DANE/PIT BULL',\n",
       "       'ROTTWEILER/AKITA', 'DOMESTIC MH/MIX', 'PARSON RUSS TER/SHIH TZU',\n",
       "       'NETHERLND DWARF/MIX', 'AUST SHEPHERD/GERM SHEPHERD',\n",
       "       'WELSH CORGI CAR/BORDER COLLIE', 'AUST SHEPHERD/AKITA',\n",
       "       'BALINESE/JAVANESE', 'POODLE STND/LABRADOR RETR',\n",
       "       'AUST CATTLE DOG/BORDER COLLIE', 'GERM SHEPHERD/AUST SHEPHERD',\n",
       "       'HAVANESE/MIX', 'LOP-AMER FUZZY', 'OLD ENG BULLDOG/PIT BULL',\n",
       "       'BEAGLE/FOX TERR WIRE', 'BOXER/QUEENSLAND HEEL', 'SCOT TERRIER',\n",
       "       'RHINELANDER/MIX', 'BORDER COLLIE/AUST SHEPHERD',\n",
       "       'AUST SHEPHERD/CHIHUAHUA SH', 'BEAGLE/LABRADOR RETR', 'SILVER/MIX',\n",
       "       'WELSH CORGI PEM/CHIHUAHUA SH', 'SIAMESE/DOMESTIC LH',\n",
       "       'RAT TERRIER/FOX TERR SMOOTH', 'BRUSS GRIFFON/CHIHUAHUA SH',\n",
       "       'MANCHESTER TERR', 'ANGORA-SATIN', 'LABRADOR RETR/CANE CORSO',\n",
       "       'CHIHUAHUA LH/MALTESE', 'CHIHUAHUA SH/PUG',\n",
       "       'AUST SHEPHERD/AUST CATTLE DOG', 'POMERANIAN/SHETLD SHEEPDOG',\n",
       "       'AUST CATTLE DOG/BASENJI', 'BORDER COLLIE X',\n",
       "       'GOLDEN RETR/CHINESE SHARPEI', 'ALASKAN HUSKY/AUST SHEPHERD',\n",
       "       'SHIH TZU/POODLE TOY', 'BOXER/LABRADOR RETR', 'BOERBOEL',\n",
       "       'BORDER COLLIE/IRISH SETTER', 'BORDER COLLIE/PARSON RUSS TER',\n",
       "       'AUST CATTLE DOG/GREAT DANE', 'SAMOYED', 'CHIHUAHUA LH/DACHSHUND',\n",
       "       'BEAGLE/RAT TERRIER', 'SKYE TERRIER', 'COCKER SPAN/CHIHUAHUA LH',\n",
       "       'MASTIFF/QUEENSLAND HEEL', 'CHIHUAHUA & MIN',\n",
       "       'PIT BULL/GERM SH POINT', 'DACHSHUND/WELSH CORGI CAR',\n",
       "       'RAT TERRIER/SHETLD SHEEPDOG', 'MOUSE', 'CHIHUAHUA LH/POODLE MIN',\n",
       "       'MAINE COON/MIX', 'DUTCH SHEPHERD', 'LABRADOR RETR/POINTER',\n",
       "       'TURKISH VAN/MIX', 'DOVE', 'CHIHUAHUA LH/SHIBA INU',\n",
       "       'CAVALIER SPAN/BICHON FRISE', 'CHINESE SHARPEI/GERM SHEPHERD',\n",
       "       'AKITA/ANATOL SHEPHERD', 'GERM SH POINT/ENG SPRNGR SPAN', 'MIX',\n",
       "       'ALASKAN HUSKY/BEAGLE', 'LABRADOR RETR/AM PIT BULL TER',\n",
       "       'COLLIE ROUGH', 'PARSON RUSS TER/RAT TERRIER',\n",
       "       'GOLDEN RETR/LABRADOR RETR', 'COLLIE ROUGH/GERM SHEPHERD',\n",
       "       'MALTESE/BICHON FRISE', 'SCOT TERRIER/MIX',\n",
       "       'BELG MALINOIS/BELG TERVUREN', 'POODLE MIN/SHIH TZU',\n",
       "       'CHOW CHOW/LABRADOR RETR', 'AUST KELPIE/GERM SHEPHERD',\n",
       "       'CHIHUAHUA LH/SHIH TZU', 'POMERANIAN/CHIHUAHUA LH',\n",
       "       'AUST CATTLE DOG/PARSON RUSS TER', 'AMER ESKIMO/POMERANIAN',\n",
       "       'BORDER COLLIE/AUST KELPIE', 'ENG SETTER',\n",
       "       'LABRADOR RETR/ENG FOXHOUND', 'DOMESTIC MH/DOMESTIC LH',\n",
       "       'BEAGLE/GERM SHEPHERD', 'BELG TERVUREN',\n",
       "       'LABRADOR RETR/BLUETICK HOUND', 'NORWICH TERRIER/CAIRN TERRIER',\n",
       "       'WELSH CORGI PEM/CAVALIER SPAN', 'RAT TERRIER/CHIHUAHUA SH',\n",
       "       'TR WALKER HOUND/PIT BULL', 'CHIHUAHUA SH/SHIH TZU',\n",
       "       'POODLE MIN/MALTESE', 'THOROUGHBRED', 'HIMALAYAN/PERSIAN',\n",
       "       'MASTIFF/ROTTWEILER', 'ANATOL SHEPHERD/AUST CATTLE DOG',\n",
       "       'AMER BULLDOG/DOGO ARGENTINO', 'CHIHUAHUA LH/CAIRN TERRIER',\n",
       "       'AMER FOXHOUND', 'YORKSHIRE TERR/CHIHUAHUA LH',\n",
       "       'MALTESE/POODLE STND', 'ANGUS', 'WHIPPET',\n",
       "       'GERM SHEPHERD/DOBERMAN PINSCH', 'CHIHUAHUA & MIX',\n",
       "       'CAVALIER SPAN/CHIHUAHUA LH', 'POODLE MIN/YORKSHIRE TERR',\n",
       "       'GOAT/NUBIAN', 'CHOW CHOW/SAMOYED', 'DUTCH SHEPHERD/ROTTWEILER',\n",
       "       'FOX TERR WIRE/SHIH TZU', 'ROTTWEILER/AM PIT BULL TER',\n",
       "       'BEAGLE/BOXER', 'DALMATIAN/PIT BULL', 'COCKER SPAN/CHIHUAHUA SH',\n",
       "       'AUST SHEPHERD/LABRADOR RETR', 'QUEENSLAND HEEL/SIBERIAN HUSKY',\n",
       "       'LABRADOR RETR/BOSTON TERRIER', 'SHETLAND', 'PRESA CANARIO',\n",
       "       'MALTESE/POODLE TOY', 'LABRADOR RETR/ENG SPRNGR SPAN',\n",
       "       'LABRADOR RETR/QUEENSLAND HEEL', 'DOMESTIC SH/MAINE COON',\n",
       "       'SHETLD SHEEPDOG/WELSH CORGI CAR', 'AFFENPINSCHER/MIX',\n",
       "       'LABRADOR RETR/WHIPPET', 'CHIHUAHUA SH/TERRIER', 'OCICAT',\n",
       "       'AMER FOXHOUND/MIX', 'AKITA/ALASKAN HUSKY',\n",
       "       'PIT BULL/ALASKAN HUSKY', 'POINTER', 'SIBERIAN HUSKY/PIT BULL',\n",
       "       'TIBETAN SPAN/MIX', 'PODENGO PEQUENO', 'PIT BULL/MASTIFF',\n",
       "       'COLLIE SMOOTH/CHOW CHOW', 'DOMESTIC LH/MANX', 'CLUMBER SPAN',\n",
       "       'LHASA APSO/PAPILLON', 'SILKY TERRIER/MIX',\n",
       "       'BASSET HOUND/GERM SHEPHERD', 'GERM SHEPHERD/MASTIFF',\n",
       "       'AMERICAN STAFF/CHIHUAHUA SH', 'GERM SHEPHERD/AUST CATTLE DOG',\n",
       "       'LOP-AMER FUZZY/MIX', 'REDBONE HOUND/MASTIFF', 'ANGORA-SATIN/MIX',\n",
       "       'CHIHUAHUA LH/PARSON RUSS TER', 'CHINESE SHARPEI/PIT BULL',\n",
       "       'SCOT DEERHOUND/MIX', 'TOSA/MIX', 'GERM WH POINT/LABRADOR RETR',\n",
       "       'BOXER/MASTIFF', 'DOMESTIC LH/SIAMESE',\n",
       "       'DACHSHUND WH/CAIRN TERRIER', 'PIT BULL/GOLDEN RETR',\n",
       "       'DACHSHUND WH/CHIHUAHUA SH', 'ENG COONHOUND/MIX',\n",
       "       'BASSET HOUND/BEAGLE', 'AKITA/PIT BULL', 'CATAHOULA/GREYHOUND',\n",
       "       'AUST SHEPHERD/PIT BULL', 'CHIHUAHUA SH/TOY FOX TERRIER',\n",
       "       'BULL TERRIER/WELSH CORGI CAR', 'DOBERMAN PINSCH/BELG SHEEPDOG',\n",
       "       'MASTIFF/ST BERNARD RGH', 'POODLE MIN/LABRADOR RETR',\n",
       "       'SCHNAUZER GIANT', 'ENG FOXHOUND', 'CHIHUAHUA LH/WELSH CORGI PEM',\n",
       "       'BEAGLE/CHIHUAHUA SH', 'AUST SHEPHERD/BOXER',\n",
       "       'ALASKAN HUSKY/SHIBA INU', 'SAMOYED/SIBERIAN HUSKY',\n",
       "       'TIBETAN TERR', 'RHOD RIDGEBACK/GERM SHEPHERD', 'PITT BULL & LAB',\n",
       "       'GERM SHEPHERD/STAFFORDSHIRE', 'AUST CATTLE DOG/CATAHOULA',\n",
       "       'GERM SHEPHERD/BLACK/TAN HOUND', 'LHASA APSO/CAIRN TERRIER',\n",
       "       'AMER FOXHOUND/WHIPPET', 'PUG/CHIHUAHUA SH',\n",
       "       'LABRADOR RETR/VIZSLA', 'OLD ENG BULLDOG', 'VIZSLA/LABRADOR RETR',\n",
       "       'ENGLISH SPOT', 'SIBERIAN HUSKY/GOLDEN RETR',\n",
       "       'BULLDOG/NORW ELKHOUND', 'RABBIT LH/MIX',\n",
       "       'PIT BULL/TR WALKER HOUND', 'PARSON RUSS TER/BORDER COLLIE',\n",
       "       'RAT TERRIER/MIN PINSCHER', 'POODLE MIN/COCKER SPAN',\n",
       "       'YORKSHIRE TERR/SCHNAUZER MIN', 'AUST SHEPHERD/SIBERIAN HUSKY',\n",
       "       'SIBERIAN HUSKY/SIBERIAN HUSKY', 'SIBERIAN HUSKY/AUST CATTLE DOG',\n",
       "       'GOLDEN RETR/AUST CATTLE DOG', 'DOMESTIC SH/DOMESTIC SH',\n",
       "       'GREAT PYRENEES/AKBASH', 'POODLE TOY/CAIRN TERRIER',\n",
       "       'DACHSHUND WH', 'PIT BULL/WELSH CORGI PEM',\n",
       "       'SHETLD SHEEPDOG/BORDER COLLIE', 'POINTER/COCKER SPAN',\n",
       "       'FOX TERR WIRE/PIT BULL', 'SCHNAUZER STAND', 'CANE CORSO/MIX',\n",
       "       'KOMONDOR', 'SIBERIAN HUSKY/AKITA', 'SIBERIAN HUSKY/AIREDALE TERR',\n",
       "       'POMERANIAN/YORKSHIRE TERR', 'PARSON RUSS TER/PAPILLON',\n",
       "       'CAIRN TERRIER/DACHSHUND WH', 'SALUKI/MIX', 'BORDER TERRIER',\n",
       "       'CHOW CHOW/ROTTWEILER', 'CHIHUAHUA LH/NORFOLK TERRIER',\n",
       "       'MASTIFF/POINTER', 'PIT BULL/BEAGLE', 'CAIRN TERRIER/PUG',\n",
       "       'DACHSHUND/FOX TERR SMOOTH'], dtype=object)"
      ]
     },
     "execution_count": 22,
     "metadata": {},
     "output_type": "execute_result"
    }
   ],
   "source": [
    "df_short.breed.unique()"
   ]
  },
  {
   "cell_type": "code",
   "execution_count": 23,
   "id": "8d7af072",
   "metadata": {},
   "outputs": [],
   "source": [
    "df_short.breed = (df_short.breed\n",
    "                  .apply(lambda x: \n",
    "                         'mixed' if 'MIX' in x or '/' in x else 'pure'))"
   ]
  },
  {
   "cell_type": "code",
   "execution_count": 24,
   "id": "a3f35326",
   "metadata": {},
   "outputs": [
    {
     "data": {
      "text/plain": [
       "<AxesSubplot:xlabel='breed', ylabel='count'>"
      ]
     },
     "execution_count": 24,
     "metadata": {},
     "output_type": "execute_result"
    },
    {
     "data": {
      "image/png": "[encoded data removed]",
      "text/plain": [
       "<Figure size 432x288 with 1 Axes>"
      ]
     },
     "metadata": {
      "needs_background": "light"
     },
     "output_type": "display_data"
    }
   ],
   "source": [
    "sns.countplot(x='breed', data=df_short)"
   ]
  },
  {
   "cell_type": "code",
   "execution_count": null,
   "id": "86543411",
   "metadata": {},
   "outputs": [],
   "source": []
  },
  {
   "cell_type": "code",
   "execution_count": 25,
   "id": "1386399a",
   "metadata": {},
   "outputs": [],
   "source": [
    "df_short = pd.get_dummies(columns=['breed'], drop_first=True, data=df_short)"
   ]
  },
  {
   "cell_type": "code",
   "execution_count": 26,
   "id": "e0c6cf04",
   "metadata": {},
   "outputs": [
    {
     "data": {
      "text/plain": [
       "Index(['color', 'sex', 'size', 'shelter', 'days_in_shelter', 'intake_type',\n",
       "       'outcome', 'outcome_condition', 'age_in_days', 'outcome_day_of_week',\n",
       "       'name_yes', 'type_DOG', 'type_OTHER', 'breed_pure'],\n",
       "      dtype='object')"
      ]
     },
     "execution_count": 26,
     "metadata": {},
     "output_type": "execute_result"
    }
   ],
   "source": [
    "df_short.columns"
   ]
  },
  {
   "cell_type": "markdown",
   "id": "6a89a1bc",
   "metadata": {},
   "source": [
    "## _Color_  "
   ]
  },
  {
   "cell_type": "code",
   "execution_count": 27,
   "id": "752c3d80",
   "metadata": {},
   "outputs": [
    {
     "data": {
      "text/plain": [
       "BLACK/WHITE         0.116812\n",
       "BLACK               0.092402\n",
       "BRN TABBY           0.051567\n",
       "BLACK/TAN           0.049735\n",
       "WHITE               0.048688\n",
       "TAN                 0.043387\n",
       "BROWN/WHITE         0.036385\n",
       "BROWN               0.031150\n",
       "TAN/WHITE           0.030234\n",
       "GRAY/WHITE          0.027158\n",
       "BRN TABBY/WHITE     0.027158\n",
       "TRICOLOR            0.026765\n",
       "WHITE/BLACK         0.026176\n",
       "GRAY                0.022315\n",
       "BLACK/BROWN         0.017473\n",
       "GRAY TABBY          0.017145\n",
       "WHITE/BROWN         0.016818\n",
       "ORG TABBY           0.014659\n",
       "BR BRINDLE/WHITE    0.013873\n",
       "BROWN/BLACK         0.013677\n",
       "Name: color, dtype: float64"
      ]
     },
     "execution_count": 27,
     "metadata": {},
     "output_type": "execute_result"
    }
   ],
   "source": [
    "color = df_short.color.value_counts(normalize=True)\n",
    "color.head(20)"
   ]
  },
  {
   "cell_type": "code",
   "execution_count": 28,
   "id": "92a20289",
   "metadata": {},
   "outputs": [],
   "source": [
    "df_short.color = df_short.color.apply(lambda x:\n",
    "                                     'single' if '/' in x else 'mix')"
   ]
  },
  {
   "cell_type": "code",
   "execution_count": 29,
   "id": "b24cb2c9",
   "metadata": {},
   "outputs": [
    {
     "data": {
      "text/plain": [
       "array(['mix', 'single'], dtype=object)"
      ]
     },
     "execution_count": 29,
     "metadata": {},
     "output_type": "execute_result"
    }
   ],
   "source": [
    "df_short.color.unique()"
   ]
  },
  {
   "cell_type": "code",
   "execution_count": 30,
   "id": "287fc2ba",
   "metadata": {},
   "outputs": [
    {
     "data": {
      "text/plain": [
       "<AxesSubplot:xlabel='color', ylabel='count'>"
      ]
     },
     "execution_count": 30,
     "metadata": {},
     "output_type": "execute_result"
    },
    {
     "data": {
      "image/png": "[encoded data removed]",
      "text/plain": [
       "<Figure size 432x288 with 1 Axes>"
      ]
     },
     "metadata": {
      "needs_background": "light"
     },
     "output_type": "display_data"
    }
   ],
   "source": [
    "sns.countplot(x='color', data=df_short)"
   ]
  },
  {
   "cell_type": "code",
   "execution_count": 31,
   "id": "10d45963",
   "metadata": {},
   "outputs": [],
   "source": [
    "df_short = pd.get_dummies(columns=['color'], drop_first=True, data=df_short)"
   ]
  },
  {
   "cell_type": "markdown",
   "id": "442cf16c",
   "metadata": {},
   "source": [
    "## _Sex_"
   ]
  },
  {
   "cell_type": "code",
   "execution_count": 32,
   "id": "1704a898",
   "metadata": {},
   "outputs": [
    {
     "data": {
      "text/plain": [
       "Neutered    6245\n",
       "Spayed      5382\n",
       "Male        2077\n",
       "Female      1577\n",
       "Name: sex, dtype: int64"
      ]
     },
     "execution_count": 32,
     "metadata": {},
     "output_type": "execute_result"
    }
   ],
   "source": [
    "df_short.sex.value_counts()"
   ]
  },
  {
   "cell_type": "code",
   "execution_count": 33,
   "id": "aa0987f8",
   "metadata": {},
   "outputs": [],
   "source": [
    "df_short.sex = df_short.sex.apply(lambda x:\n",
    "                                  'yes' if x == 'Neutered' or x == 'Spayed'\n",
    "                                  else 'no')"
   ]
  },
  {
   "cell_type": "code",
   "execution_count": 34,
   "id": "d65ea855",
   "metadata": {},
   "outputs": [
    {
     "data": {
      "text/plain": [
       "array(['yes', 'no'], dtype=object)"
      ]
     },
     "execution_count": 34,
     "metadata": {},
     "output_type": "execute_result"
    }
   ],
   "source": [
    "df_short.sex.unique()"
   ]
  },
  {
   "cell_type": "code",
   "execution_count": 35,
   "id": "6f0ca5b7",
   "metadata": {},
   "outputs": [],
   "source": [
    "df_short.rename(columns={'sex': 'gonadectomy'}, inplace=True)"
   ]
  },
  {
   "cell_type": "code",
   "execution_count": 36,
   "id": "d75dc564",
   "metadata": {},
   "outputs": [
    {
     "data": {
      "text/plain": [
       "<AxesSubplot:xlabel='gonadectomy', ylabel='count'>"
      ]
     },
     "execution_count": 36,
     "metadata": {},
     "output_type": "execute_result"
    },
    {
     "data": {
      "image/png": "[encoded data removed]",
      "text/plain": [
       "<Figure size 432x288 with 1 Axes>"
      ]
     },
     "metadata": {
      "needs_background": "light"
     },
     "output_type": "display_data"
    }
   ],
   "source": [
    "sns.countplot(x='gonadectomy', data=df_short)"
   ]
  },
  {
   "cell_type": "code",
   "execution_count": 37,
   "id": "69bc6fc2",
   "metadata": {},
   "outputs": [],
   "source": [
    "df_short = pd.get_dummies(columns=['gonadectomy'], drop_first=True, data=df_short)"
   ]
  },
  {
   "cell_type": "code",
   "execution_count": 38,
   "id": "8612b214",
   "metadata": {},
   "outputs": [
    {
     "data": {
      "text/plain": [
       "Index(['size', 'shelter', 'days_in_shelter', 'intake_type', 'outcome',\n",
       "       'outcome_condition', 'age_in_days', 'outcome_day_of_week', 'name_yes',\n",
       "       'type_DOG', 'type_OTHER', 'breed_pure', 'color_single',\n",
       "       'gonadectomy_yes'],\n",
       "      dtype='object')"
      ]
     },
     "execution_count": 38,
     "metadata": {},
     "output_type": "execute_result"
    }
   ],
   "source": [
    "df_short.columns"
   ]
  },
  {
   "cell_type": "markdown",
   "id": "c784754b",
   "metadata": {},
   "source": [
    "## _Size_ "
   ]
  },
  {
   "cell_type": "code",
   "execution_count": 39,
   "id": "ee236c1d",
   "metadata": {},
   "outputs": [
    {
     "data": {
      "text/html": [
       "<div>\n",
       "<style scoped>\n",
       "    .dataframe tbody tr th:only-of-type {\n",
       "        vertical-align: middle;\n",
       "    }\n",
       "\n",
       "    .dataframe tbody tr th {\n",
       "        vertical-align: top;\n",
       "    }\n",
       "\n",
       "    .dataframe thead th {\n",
       "        text-align: right;\n",
       "    }\n",
       "</style>\n",
       "<table border=\"1\" class=\"dataframe\">\n",
       "  <thead>\n",
       "    <tr style=\"text-align: right;\">\n",
       "      <th></th>\n",
       "      <th>size</th>\n",
       "      <th>shelter</th>\n",
       "      <th>days_in_shelter</th>\n",
       "      <th>intake_type</th>\n",
       "      <th>outcome</th>\n",
       "      <th>outcome_condition</th>\n",
       "      <th>age_in_days</th>\n",
       "      <th>outcome_day_of_week</th>\n",
       "      <th>name_yes</th>\n",
       "      <th>type_DOG</th>\n",
       "      <th>type_OTHER</th>\n",
       "      <th>breed_pure</th>\n",
       "      <th>color_single</th>\n",
       "      <th>gonadectomy_yes</th>\n",
       "    </tr>\n",
       "  </thead>\n",
       "  <tbody>\n",
       "    <tr>\n",
       "      <th>0</th>\n",
       "      <td>KITTN</td>\n",
       "      <td>CA03</td>\n",
       "      <td>6</td>\n",
       "      <td>OWNER SURRENDER</td>\n",
       "      <td>1</td>\n",
       "      <td>PENDING</td>\n",
       "      <td>101</td>\n",
       "      <td>4</td>\n",
       "      <td>1</td>\n",
       "      <td>0</td>\n",
       "      <td>0</td>\n",
       "      <td>1</td>\n",
       "      <td>0</td>\n",
       "      <td>1</td>\n",
       "    </tr>\n",
       "    <tr>\n",
       "      <th>1</th>\n",
       "      <td>SMALL</td>\n",
       "      <td>CS05</td>\n",
       "      <td>20</td>\n",
       "      <td>STRAY</td>\n",
       "      <td>1</td>\n",
       "      <td>PENDING</td>\n",
       "      <td>1116</td>\n",
       "      <td>4</td>\n",
       "      <td>1</td>\n",
       "      <td>0</td>\n",
       "      <td>0</td>\n",
       "      <td>1</td>\n",
       "      <td>0</td>\n",
       "      <td>1</td>\n",
       "    </tr>\n",
       "    <tr>\n",
       "      <th>2</th>\n",
       "      <td>KITTN</td>\n",
       "      <td>WESTFARM</td>\n",
       "      <td>18</td>\n",
       "      <td>STRAY</td>\n",
       "      <td>1</td>\n",
       "      <td>HEALTHY</td>\n",
       "      <td>129</td>\n",
       "      <td>2</td>\n",
       "      <td>1</td>\n",
       "      <td>0</td>\n",
       "      <td>0</td>\n",
       "      <td>1</td>\n",
       "      <td>0</td>\n",
       "      <td>1</td>\n",
       "    </tr>\n",
       "    <tr>\n",
       "      <th>3</th>\n",
       "      <td>KITTN</td>\n",
       "      <td>WESTFARM</td>\n",
       "      <td>18</td>\n",
       "      <td>STRAY</td>\n",
       "      <td>1</td>\n",
       "      <td>HEALTHY</td>\n",
       "      <td>129</td>\n",
       "      <td>2</td>\n",
       "      <td>1</td>\n",
       "      <td>0</td>\n",
       "      <td>0</td>\n",
       "      <td>1</td>\n",
       "      <td>1</td>\n",
       "      <td>1</td>\n",
       "    </tr>\n",
       "    <tr>\n",
       "      <th>4</th>\n",
       "      <td>MED</td>\n",
       "      <td>DS72</td>\n",
       "      <td>1</td>\n",
       "      <td>CONFISCATE</td>\n",
       "      <td>1</td>\n",
       "      <td>PENDING</td>\n",
       "      <td>398</td>\n",
       "      <td>4</td>\n",
       "      <td>1</td>\n",
       "      <td>1</td>\n",
       "      <td>0</td>\n",
       "      <td>0</td>\n",
       "      <td>1</td>\n",
       "      <td>1</td>\n",
       "    </tr>\n",
       "    <tr>\n",
       "      <th>...</th>\n",
       "      <td>...</td>\n",
       "      <td>...</td>\n",
       "      <td>...</td>\n",
       "      <td>...</td>\n",
       "      <td>...</td>\n",
       "      <td>...</td>\n",
       "      <td>...</td>\n",
       "      <td>...</td>\n",
       "      <td>...</td>\n",
       "      <td>...</td>\n",
       "      <td>...</td>\n",
       "      <td>...</td>\n",
       "      <td>...</td>\n",
       "      <td>...</td>\n",
       "    </tr>\n",
       "    <tr>\n",
       "      <th>15276</th>\n",
       "      <td>MED</td>\n",
       "      <td>DS66</td>\n",
       "      <td>29</td>\n",
       "      <td>STRAY</td>\n",
       "      <td>1</td>\n",
       "      <td>PENDING</td>\n",
       "      <td>2192</td>\n",
       "      <td>1</td>\n",
       "      <td>1</td>\n",
       "      <td>1</td>\n",
       "      <td>0</td>\n",
       "      <td>1</td>\n",
       "      <td>1</td>\n",
       "      <td>0</td>\n",
       "    </tr>\n",
       "    <tr>\n",
       "      <th>15277</th>\n",
       "      <td>KITTN</td>\n",
       "      <td>LOBBY</td>\n",
       "      <td>42</td>\n",
       "      <td>STRAY</td>\n",
       "      <td>1</td>\n",
       "      <td>HEALTHY</td>\n",
       "      <td>73</td>\n",
       "      <td>2</td>\n",
       "      <td>1</td>\n",
       "      <td>0</td>\n",
       "      <td>0</td>\n",
       "      <td>1</td>\n",
       "      <td>0</td>\n",
       "      <td>1</td>\n",
       "    </tr>\n",
       "    <tr>\n",
       "      <th>15278</th>\n",
       "      <td>TOY</td>\n",
       "      <td>DA16</td>\n",
       "      <td>13</td>\n",
       "      <td>STRAY</td>\n",
       "      <td>0</td>\n",
       "      <td>HEALTHY</td>\n",
       "      <td>378</td>\n",
       "      <td>4</td>\n",
       "      <td>0</td>\n",
       "      <td>1</td>\n",
       "      <td>0</td>\n",
       "      <td>0</td>\n",
       "      <td>1</td>\n",
       "      <td>0</td>\n",
       "    </tr>\n",
       "    <tr>\n",
       "      <th>15279</th>\n",
       "      <td>TOY</td>\n",
       "      <td>LOBBY</td>\n",
       "      <td>16</td>\n",
       "      <td>STRAY</td>\n",
       "      <td>1</td>\n",
       "      <td>TREATABLE/REHAB</td>\n",
       "      <td>715</td>\n",
       "      <td>5</td>\n",
       "      <td>1</td>\n",
       "      <td>1</td>\n",
       "      <td>0</td>\n",
       "      <td>0</td>\n",
       "      <td>1</td>\n",
       "      <td>1</td>\n",
       "    </tr>\n",
       "    <tr>\n",
       "      <th>15280</th>\n",
       "      <td>KITTN</td>\n",
       "      <td>COOLER</td>\n",
       "      <td>49</td>\n",
       "      <td>STRAY</td>\n",
       "      <td>0</td>\n",
       "      <td>DEAD</td>\n",
       "      <td>110</td>\n",
       "      <td>1</td>\n",
       "      <td>0</td>\n",
       "      <td>0</td>\n",
       "      <td>0</td>\n",
       "      <td>1</td>\n",
       "      <td>0</td>\n",
       "      <td>0</td>\n",
       "    </tr>\n",
       "  </tbody>\n",
       "</table>\n",
       "<p>15281 rows × 14 columns</p>\n",
       "</div>"
      ],
      "text/plain": [
       "        size   shelter  days_in_shelter      intake_type  outcome  \\\n",
       "0      KITTN      CA03                6  OWNER SURRENDER        1   \n",
       "1      SMALL      CS05               20            STRAY        1   \n",
       "2      KITTN  WESTFARM               18            STRAY        1   \n",
       "3      KITTN  WESTFARM               18            STRAY        1   \n",
       "4        MED      DS72                1       CONFISCATE        1   \n",
       "...      ...       ...              ...              ...      ...   \n",
       "15276    MED      DS66               29            STRAY        1   \n",
       "15277  KITTN     LOBBY               42            STRAY        1   \n",
       "15278    TOY      DA16               13            STRAY        0   \n",
       "15279    TOY     LOBBY               16            STRAY        1   \n",
       "15280  KITTN    COOLER               49            STRAY        0   \n",
       "\n",
       "      outcome_condition  age_in_days  outcome_day_of_week  name_yes  type_DOG  \\\n",
       "0               PENDING          101                    4         1         0   \n",
       "1               PENDING         1116                    4         1         0   \n",
       "2               HEALTHY          129                    2         1         0   \n",
       "3               HEALTHY          129                    2         1         0   \n",
       "4               PENDING          398                    4         1         1   \n",
       "...                 ...          ...                  ...       ...       ...   \n",
       "15276           PENDING         2192                    1         1         1   \n",
       "15277           HEALTHY           73                    2         1         0   \n",
       "15278           HEALTHY          378                    4         0         1   \n",
       "15279   TREATABLE/REHAB          715                    5         1         1   \n",
       "15280              DEAD          110                    1         0         0   \n",
       "\n",
       "       type_OTHER  breed_pure  color_single  gonadectomy_yes  \n",
       "0               0           1             0                1  \n",
       "1               0           1             0                1  \n",
       "2               0           1             0                1  \n",
       "3               0           1             1                1  \n",
       "4               0           0             1                1  \n",
       "...           ...         ...           ...              ...  \n",
       "15276           0           1             1                0  \n",
       "15277           0           1             0                1  \n",
       "15278           0           0             1                0  \n",
       "15279           0           0             1                1  \n",
       "15280           0           1             0                0  \n",
       "\n",
       "[15281 rows x 14 columns]"
      ]
     },
     "execution_count": 39,
     "metadata": {},
     "output_type": "execute_result"
    }
   ],
   "source": [
    "df_short"
   ]
  },
  {
   "cell_type": "code",
   "execution_count": 40,
   "id": "9a07d8e1",
   "metadata": {},
   "outputs": [
    {
     "data": {
      "text/plain": [
       "<AxesSubplot:xlabel='size', ylabel='count'>"
      ]
     },
     "execution_count": 40,
     "metadata": {},
     "output_type": "execute_result"
    },
    {
     "data": {
      "image/png": "[encoded data removed]",
      "text/plain": [
       "<Figure size 432x288 with 1 Axes>"
      ]
     },
     "metadata": {
      "needs_background": "light"
     },
     "output_type": "display_data"
    }
   ],
   "source": [
    "sns.countplot(x='size', data=df_short)"
   ]
  },
  {
   "cell_type": "code",
   "execution_count": 41,
   "id": "41b15a32",
   "metadata": {},
   "outputs": [],
   "source": [
    "size_dict = {'KITTN': 'X_SMALL', 'PUPPY': 'X_SMALL', 'TOY': 'X_SMALL'}"
   ]
  },
  {
   "cell_type": "code",
   "execution_count": 42,
   "id": "616a8372",
   "metadata": {},
   "outputs": [],
   "source": [
    "df_short = df_short.replace({'size': size_dict})"
   ]
  },
  {
   "cell_type": "code",
   "execution_count": 43,
   "id": "04aa2b9f",
   "metadata": {},
   "outputs": [
    {
     "data": {
      "text/plain": [
       "<AxesSubplot:xlabel='size', ylabel='count'>"
      ]
     },
     "execution_count": 43,
     "metadata": {},
     "output_type": "execute_result"
    },
    {
     "data": {
      "image/png": "[encoded data removed]",
      "text/plain": [
       "<Figure size 432x288 with 1 Axes>"
      ]
     },
     "metadata": {
      "needs_background": "light"
     },
     "output_type": "display_data"
    }
   ],
   "source": [
    "sns.countplot(x='size', data=df_short)"
   ]
  },
  {
   "cell_type": "code",
   "execution_count": 44,
   "id": "bdb3aa57",
   "metadata": {},
   "outputs": [],
   "source": [
    "df_short = pd.get_dummies(columns=['size'], drop_first=True, data=df_short)"
   ]
  },
  {
   "cell_type": "code",
   "execution_count": 45,
   "id": "9d8d7f90",
   "metadata": {},
   "outputs": [
    {
     "data": {
      "text/plain": [
       "Index(['shelter', 'days_in_shelter', 'intake_type', 'outcome',\n",
       "       'outcome_condition', 'age_in_days', 'outcome_day_of_week', 'name_yes',\n",
       "       'type_DOG', 'type_OTHER', 'breed_pure', 'color_single',\n",
       "       'gonadectomy_yes', 'size_MED', 'size_SMALL', 'size_X-LRG',\n",
       "       'size_X_SMALL'],\n",
       "      dtype='object')"
      ]
     },
     "execution_count": 45,
     "metadata": {},
     "output_type": "execute_result"
    }
   ],
   "source": [
    "df_short.columns"
   ]
  },
  {
   "cell_type": "code",
   "execution_count": 46,
   "id": "a8129c30",
   "metadata": {},
   "outputs": [],
   "source": [
    "df_short.drop('shelter', axis=1, inplace=True)"
   ]
  },
  {
   "cell_type": "markdown",
   "id": "6ce34cbb",
   "metadata": {},
   "source": [
    "## _Inake Type_"
   ]
  },
  {
   "cell_type": "code",
   "execution_count": 47,
   "id": "672c47dd",
   "metadata": {},
   "outputs": [
    {
     "data": {
      "text/plain": [
       "STRAY              10721\n",
       "OWNER SURRENDER     2570\n",
       "CONFISCATE           988\n",
       "TRANSFER             369\n",
       "ADOPTION RETURN      340\n",
       "QUARANTINE           275\n",
       "OS APPT               18\n",
       "Name: intake_type, dtype: int64"
      ]
     },
     "execution_count": 47,
     "metadata": {},
     "output_type": "execute_result"
    }
   ],
   "source": [
    "df_short.intake_type.value_counts()"
   ]
  },
  {
   "cell_type": "code",
   "execution_count": 48,
   "id": "764e0e79",
   "metadata": {},
   "outputs": [],
   "source": [
    "intake_dict = {'ADOPTION RETURN':'OTHER', 'CONFISCATE':'OTHER',\n",
    "               'OS APPT':'OTHER', 'OWNER SURRENDER':'OTHER', \n",
    "               'QUARANTINE':'OTHER', 'TRANSFER':'OTHER'}\n",
    "\n",
    "df_short = df_short.replace({'intake_type':intake_dict})"
   ]
  },
  {
   "cell_type": "code",
   "execution_count": 49,
   "id": "4ec47e8b",
   "metadata": {},
   "outputs": [
    {
     "data": {
      "text/plain": [
       "STRAY    10721\n",
       "OTHER     4560\n",
       "Name: intake_type, dtype: int64"
      ]
     },
     "execution_count": 49,
     "metadata": {},
     "output_type": "execute_result"
    }
   ],
   "source": [
    "df_short.intake_type.value_counts()"
   ]
  },
  {
   "cell_type": "code",
   "execution_count": 50,
   "id": "26972664",
   "metadata": {},
   "outputs": [],
   "source": [
    "df_short = pd.get_dummies(columns=['intake_type'], drop_first=True, \n",
    "                         data=df_short)"
   ]
  },
  {
   "cell_type": "code",
   "execution_count": 51,
   "id": "375b5357",
   "metadata": {},
   "outputs": [
    {
     "data": {
      "text/plain": [
       "Index(['days_in_shelter', 'outcome', 'outcome_condition', 'age_in_days',\n",
       "       'outcome_day_of_week', 'name_yes', 'type_DOG', 'type_OTHER',\n",
       "       'breed_pure', 'color_single', 'gonadectomy_yes', 'size_MED',\n",
       "       'size_SMALL', 'size_X-LRG', 'size_X_SMALL', 'intake_type_STRAY'],\n",
       "      dtype='object')"
      ]
     },
     "execution_count": 51,
     "metadata": {},
     "output_type": "execute_result"
    }
   ],
   "source": [
    "df_short.columns"
   ]
  },
  {
   "cell_type": "markdown",
   "id": "64da5adf",
   "metadata": {},
   "source": [
    "## _Outcome Condition_"
   ]
  },
  {
   "cell_type": "code",
   "execution_count": 52,
   "id": "593d1c93",
   "metadata": {},
   "outputs": [
    {
     "data": {
      "text/plain": [
       "(array([0, 1, 2, 3, 4, 5]),\n",
       " [Text(0, 0, 'PENDING'),\n",
       "  Text(1, 0, 'HEALTHY'),\n",
       "  Text(2, 0, 'TREATABLE/MANAGEABLE'),\n",
       "  Text(3, 0, 'UNTREATABLE'),\n",
       "  Text(4, 0, 'TREATABLE/REHAB'),\n",
       "  Text(5, 0, 'DEAD')])"
      ]
     },
     "execution_count": 52,
     "metadata": {},
     "output_type": "execute_result"
    },
    {
     "data": {
      "image/png": "[encoded data removed]",
      "text/plain": [
       "<Figure size 432x288 with 1 Axes>"
      ]
     },
     "metadata": {
      "needs_background": "light"
     },
     "output_type": "display_data"
    }
   ],
   "source": [
    "sns.countplot(x='outcome_condition', data=df_short)\n",
    "plt.xticks(rotation=45)"
   ]
  },
  {
   "cell_type": "code",
   "execution_count": 53,
   "id": "211556b6",
   "metadata": {},
   "outputs": [],
   "source": [
    "df_short.outcome_condition = (df_short.outcome_condition\n",
    "                              .apply(lambda x:'positive' if x == 'HEALTHY' \n",
    "                                     or x == 'TREATABLE/MANAGEABLE' \n",
    "                                     or x == 'TREATABLE/REHAB' \n",
    "                                     else 'negative'))"
   ]
  },
  {
   "cell_type": "code",
   "execution_count": 54,
   "id": "85de4608",
   "metadata": {},
   "outputs": [
    {
     "data": {
      "text/plain": [
       "array(['negative', 'positive'], dtype=object)"
      ]
     },
     "execution_count": 54,
     "metadata": {},
     "output_type": "execute_result"
    }
   ],
   "source": [
    "df_short.outcome_condition.unique()"
   ]
  },
  {
   "cell_type": "code",
   "execution_count": 55,
   "id": "4e46e6a8",
   "metadata": {},
   "outputs": [
    {
     "data": {
      "text/plain": [
       "<AxesSubplot:xlabel='outcome_condition', ylabel='count'>"
      ]
     },
     "execution_count": 55,
     "metadata": {},
     "output_type": "execute_result"
    },
    {
     "data": {
      "image/png": "[encoded data removed]",
      "text/plain": [
       "<Figure size 432x288 with 1 Axes>"
      ]
     },
     "metadata": {
      "needs_background": "light"
     },
     "output_type": "display_data"
    }
   ],
   "source": [
    "sns.countplot(x='outcome_condition', data=df_short)"
   ]
  },
  {
   "cell_type": "code",
   "execution_count": 56,
   "id": "195c588d",
   "metadata": {},
   "outputs": [],
   "source": [
    "df_short = pd.get_dummies(columns=['outcome_condition'], drop_first=True, \n",
    "                         data=df_short)"
   ]
  },
  {
   "cell_type": "code",
   "execution_count": 57,
   "id": "62da4546",
   "metadata": {},
   "outputs": [
    {
     "data": {
      "text/html": [
       "<div>\n",
       "<style scoped>\n",
       "    .dataframe tbody tr th:only-of-type {\n",
       "        vertical-align: middle;\n",
       "    }\n",
       "\n",
       "    .dataframe tbody tr th {\n",
       "        vertical-align: top;\n",
       "    }\n",
       "\n",
       "    .dataframe thead th {\n",
       "        text-align: right;\n",
       "    }\n",
       "</style>\n",
       "<table border=\"1\" class=\"dataframe\">\n",
       "  <thead>\n",
       "    <tr style=\"text-align: right;\">\n",
       "      <th></th>\n",
       "      <th>days_in_shelter</th>\n",
       "      <th>outcome</th>\n",
       "      <th>age_in_days</th>\n",
       "      <th>outcome_day_of_week</th>\n",
       "      <th>name_yes</th>\n",
       "      <th>type_DOG</th>\n",
       "      <th>type_OTHER</th>\n",
       "      <th>breed_pure</th>\n",
       "      <th>color_single</th>\n",
       "      <th>gonadectomy_yes</th>\n",
       "      <th>size_MED</th>\n",
       "      <th>size_SMALL</th>\n",
       "      <th>size_X-LRG</th>\n",
       "      <th>size_X_SMALL</th>\n",
       "      <th>intake_type_STRAY</th>\n",
       "      <th>outcome_condition_positive</th>\n",
       "    </tr>\n",
       "  </thead>\n",
       "  <tbody>\n",
       "    <tr>\n",
       "      <th>0</th>\n",
       "      <td>6</td>\n",
       "      <td>1</td>\n",
       "      <td>101</td>\n",
       "      <td>4</td>\n",
       "      <td>1</td>\n",
       "      <td>0</td>\n",
       "      <td>0</td>\n",
       "      <td>1</td>\n",
       "      <td>0</td>\n",
       "      <td>1</td>\n",
       "      <td>0</td>\n",
       "      <td>0</td>\n",
       "      <td>0</td>\n",
       "      <td>1</td>\n",
       "      <td>0</td>\n",
       "      <td>0</td>\n",
       "    </tr>\n",
       "    <tr>\n",
       "      <th>1</th>\n",
       "      <td>20</td>\n",
       "      <td>1</td>\n",
       "      <td>1116</td>\n",
       "      <td>4</td>\n",
       "      <td>1</td>\n",
       "      <td>0</td>\n",
       "      <td>0</td>\n",
       "      <td>1</td>\n",
       "      <td>0</td>\n",
       "      <td>1</td>\n",
       "      <td>0</td>\n",
       "      <td>1</td>\n",
       "      <td>0</td>\n",
       "      <td>0</td>\n",
       "      <td>1</td>\n",
       "      <td>0</td>\n",
       "    </tr>\n",
       "    <tr>\n",
       "      <th>2</th>\n",
       "      <td>18</td>\n",
       "      <td>1</td>\n",
       "      <td>129</td>\n",
       "      <td>2</td>\n",
       "      <td>1</td>\n",
       "      <td>0</td>\n",
       "      <td>0</td>\n",
       "      <td>1</td>\n",
       "      <td>0</td>\n",
       "      <td>1</td>\n",
       "      <td>0</td>\n",
       "      <td>0</td>\n",
       "      <td>0</td>\n",
       "      <td>1</td>\n",
       "      <td>1</td>\n",
       "      <td>1</td>\n",
       "    </tr>\n",
       "    <tr>\n",
       "      <th>3</th>\n",
       "      <td>18</td>\n",
       "      <td>1</td>\n",
       "      <td>129</td>\n",
       "      <td>2</td>\n",
       "      <td>1</td>\n",
       "      <td>0</td>\n",
       "      <td>0</td>\n",
       "      <td>1</td>\n",
       "      <td>1</td>\n",
       "      <td>1</td>\n",
       "      <td>0</td>\n",
       "      <td>0</td>\n",
       "      <td>0</td>\n",
       "      <td>1</td>\n",
       "      <td>1</td>\n",
       "      <td>1</td>\n",
       "    </tr>\n",
       "    <tr>\n",
       "      <th>4</th>\n",
       "      <td>1</td>\n",
       "      <td>1</td>\n",
       "      <td>398</td>\n",
       "      <td>4</td>\n",
       "      <td>1</td>\n",
       "      <td>1</td>\n",
       "      <td>0</td>\n",
       "      <td>0</td>\n",
       "      <td>1</td>\n",
       "      <td>1</td>\n",
       "      <td>1</td>\n",
       "      <td>0</td>\n",
       "      <td>0</td>\n",
       "      <td>0</td>\n",
       "      <td>0</td>\n",
       "      <td>0</td>\n",
       "    </tr>\n",
       "  </tbody>\n",
       "</table>\n",
       "</div>"
      ],
      "text/plain": [
       "   days_in_shelter  outcome  age_in_days  outcome_day_of_week  name_yes  \\\n",
       "0                6        1          101                    4         1   \n",
       "1               20        1         1116                    4         1   \n",
       "2               18        1          129                    2         1   \n",
       "3               18        1          129                    2         1   \n",
       "4                1        1          398                    4         1   \n",
       "\n",
       "   type_DOG  type_OTHER  breed_pure  color_single  gonadectomy_yes  size_MED  \\\n",
       "0         0           0           1             0                1         0   \n",
       "1         0           0           1             0                1         0   \n",
       "2         0           0           1             0                1         0   \n",
       "3         0           0           1             1                1         0   \n",
       "4         1           0           0             1                1         1   \n",
       "\n",
       "   size_SMALL  size_X-LRG  size_X_SMALL  intake_type_STRAY  \\\n",
       "0           0           0             1                  0   \n",
       "1           1           0             0                  1   \n",
       "2           0           0             1                  1   \n",
       "3           0           0             1                  1   \n",
       "4           0           0             0                  0   \n",
       "\n",
       "   outcome_condition_positive  \n",
       "0                           0  \n",
       "1                           0  \n",
       "2                           1  \n",
       "3                           1  \n",
       "4                           0  "
      ]
     },
     "execution_count": 57,
     "metadata": {},
     "output_type": "execute_result"
    }
   ],
   "source": [
    "df_short.head()"
   ]
  },
  {
   "cell_type": "code",
   "execution_count": 58,
   "id": "32febe4b",
   "metadata": {},
   "outputs": [],
   "source": [
    "df_short.insert(2, column='days_in_shelter_temp', value=df_short.days_in_shelter)"
   ]
  },
  {
   "cell_type": "code",
   "execution_count": 59,
   "id": "3ff1c63f",
   "metadata": {},
   "outputs": [],
   "source": [
    "df_short.drop('days_in_shelter', axis=1, inplace=True)"
   ]
  },
  {
   "cell_type": "code",
   "execution_count": 60,
   "id": "1277b2f6",
   "metadata": {},
   "outputs": [],
   "source": [
    "df_short.rename(columns = {'days_in_shelter_temp': 'days_in_shelter'},\n",
    "               inplace=True)"
   ]
  },
  {
   "cell_type": "markdown",
   "id": "ff076af2",
   "metadata": {},
   "source": [
    "## _Outcome Day of Week_ "
   ]
  },
  {
   "cell_type": "code",
   "execution_count": 61,
   "id": "ccf0a65c",
   "metadata": {},
   "outputs": [
    {
     "data": {
      "text/plain": [
       "<AxesSubplot:xlabel='outcome_day_of_week', ylabel='count'>"
      ]
     },
     "execution_count": 61,
     "metadata": {},
     "output_type": "execute_result"
    },
    {
     "data": {
      "image/png": "[encoded data removed]",
      "text/plain": [
       "<Figure size 432x288 with 1 Axes>"
      ]
     },
     "metadata": {
      "needs_background": "light"
     },
     "output_type": "display_data"
    }
   ],
   "source": [
    "sns.countplot(x='outcome_day_of_week', data=df_short)"
   ]
  },
  {
   "cell_type": "code",
   "execution_count": 62,
   "id": "9875ba9d",
   "metadata": {},
   "outputs": [],
   "source": [
    "df_short = pd.get_dummies(columns=['outcome_day_of_week'], drop_first=True, \n",
    "                         data=df_short)"
   ]
  },
  {
   "cell_type": "code",
   "execution_count": 63,
   "id": "9c2f34b8",
   "metadata": {},
   "outputs": [
    {
     "data": {
      "text/html": [
       "<div>\n",
       "<style scoped>\n",
       "    .dataframe tbody tr th:only-of-type {\n",
       "        vertical-align: middle;\n",
       "    }\n",
       "\n",
       "    .dataframe tbody tr th {\n",
       "        vertical-align: top;\n",
       "    }\n",
       "\n",
       "    .dataframe thead th {\n",
       "        text-align: right;\n",
       "    }\n",
       "</style>\n",
       "<table border=\"1\" class=\"dataframe\">\n",
       "  <thead>\n",
       "    <tr style=\"text-align: right;\">\n",
       "      <th></th>\n",
       "      <th>outcome</th>\n",
       "      <th>days_in_shelter</th>\n",
       "      <th>age_in_days</th>\n",
       "      <th>name_yes</th>\n",
       "      <th>type_DOG</th>\n",
       "      <th>type_OTHER</th>\n",
       "      <th>breed_pure</th>\n",
       "      <th>color_single</th>\n",
       "      <th>gonadectomy_yes</th>\n",
       "      <th>size_MED</th>\n",
       "      <th>...</th>\n",
       "      <th>size_X-LRG</th>\n",
       "      <th>size_X_SMALL</th>\n",
       "      <th>intake_type_STRAY</th>\n",
       "      <th>outcome_condition_positive</th>\n",
       "      <th>outcome_day_of_week_1</th>\n",
       "      <th>outcome_day_of_week_2</th>\n",
       "      <th>outcome_day_of_week_3</th>\n",
       "      <th>outcome_day_of_week_4</th>\n",
       "      <th>outcome_day_of_week_5</th>\n",
       "      <th>outcome_day_of_week_6</th>\n",
       "    </tr>\n",
       "  </thead>\n",
       "  <tbody>\n",
       "    <tr>\n",
       "      <th>0</th>\n",
       "      <td>1</td>\n",
       "      <td>6</td>\n",
       "      <td>101</td>\n",
       "      <td>1</td>\n",
       "      <td>0</td>\n",
       "      <td>0</td>\n",
       "      <td>1</td>\n",
       "      <td>0</td>\n",
       "      <td>1</td>\n",
       "      <td>0</td>\n",
       "      <td>...</td>\n",
       "      <td>0</td>\n",
       "      <td>1</td>\n",
       "      <td>0</td>\n",
       "      <td>0</td>\n",
       "      <td>0</td>\n",
       "      <td>0</td>\n",
       "      <td>0</td>\n",
       "      <td>1</td>\n",
       "      <td>0</td>\n",
       "      <td>0</td>\n",
       "    </tr>\n",
       "    <tr>\n",
       "      <th>1</th>\n",
       "      <td>1</td>\n",
       "      <td>20</td>\n",
       "      <td>1116</td>\n",
       "      <td>1</td>\n",
       "      <td>0</td>\n",
       "      <td>0</td>\n",
       "      <td>1</td>\n",
       "      <td>0</td>\n",
       "      <td>1</td>\n",
       "      <td>0</td>\n",
       "      <td>...</td>\n",
       "      <td>0</td>\n",
       "      <td>0</td>\n",
       "      <td>1</td>\n",
       "      <td>0</td>\n",
       "      <td>0</td>\n",
       "      <td>0</td>\n",
       "      <td>0</td>\n",
       "      <td>1</td>\n",
       "      <td>0</td>\n",
       "      <td>0</td>\n",
       "    </tr>\n",
       "    <tr>\n",
       "      <th>2</th>\n",
       "      <td>1</td>\n",
       "      <td>18</td>\n",
       "      <td>129</td>\n",
       "      <td>1</td>\n",
       "      <td>0</td>\n",
       "      <td>0</td>\n",
       "      <td>1</td>\n",
       "      <td>0</td>\n",
       "      <td>1</td>\n",
       "      <td>0</td>\n",
       "      <td>...</td>\n",
       "      <td>0</td>\n",
       "      <td>1</td>\n",
       "      <td>1</td>\n",
       "      <td>1</td>\n",
       "      <td>0</td>\n",
       "      <td>1</td>\n",
       "      <td>0</td>\n",
       "      <td>0</td>\n",
       "      <td>0</td>\n",
       "      <td>0</td>\n",
       "    </tr>\n",
       "    <tr>\n",
       "      <th>3</th>\n",
       "      <td>1</td>\n",
       "      <td>18</td>\n",
       "      <td>129</td>\n",
       "      <td>1</td>\n",
       "      <td>0</td>\n",
       "      <td>0</td>\n",
       "      <td>1</td>\n",
       "      <td>1</td>\n",
       "      <td>1</td>\n",
       "      <td>0</td>\n",
       "      <td>...</td>\n",
       "      <td>0</td>\n",
       "      <td>1</td>\n",
       "      <td>1</td>\n",
       "      <td>1</td>\n",
       "      <td>0</td>\n",
       "      <td>1</td>\n",
       "      <td>0</td>\n",
       "      <td>0</td>\n",
       "      <td>0</td>\n",
       "      <td>0</td>\n",
       "    </tr>\n",
       "    <tr>\n",
       "      <th>4</th>\n",
       "      <td>1</td>\n",
       "      <td>1</td>\n",
       "      <td>398</td>\n",
       "      <td>1</td>\n",
       "      <td>1</td>\n",
       "      <td>0</td>\n",
       "      <td>0</td>\n",
       "      <td>1</td>\n",
       "      <td>1</td>\n",
       "      <td>1</td>\n",
       "      <td>...</td>\n",
       "      <td>0</td>\n",
       "      <td>0</td>\n",
       "      <td>0</td>\n",
       "      <td>0</td>\n",
       "      <td>0</td>\n",
       "      <td>0</td>\n",
       "      <td>0</td>\n",
       "      <td>1</td>\n",
       "      <td>0</td>\n",
       "      <td>0</td>\n",
       "    </tr>\n",
       "    <tr>\n",
       "      <th>...</th>\n",
       "      <td>...</td>\n",
       "      <td>...</td>\n",
       "      <td>...</td>\n",
       "      <td>...</td>\n",
       "      <td>...</td>\n",
       "      <td>...</td>\n",
       "      <td>...</td>\n",
       "      <td>...</td>\n",
       "      <td>...</td>\n",
       "      <td>...</td>\n",
       "      <td>...</td>\n",
       "      <td>...</td>\n",
       "      <td>...</td>\n",
       "      <td>...</td>\n",
       "      <td>...</td>\n",
       "      <td>...</td>\n",
       "      <td>...</td>\n",
       "      <td>...</td>\n",
       "      <td>...</td>\n",
       "      <td>...</td>\n",
       "      <td>...</td>\n",
       "    </tr>\n",
       "    <tr>\n",
       "      <th>15276</th>\n",
       "      <td>1</td>\n",
       "      <td>29</td>\n",
       "      <td>2192</td>\n",
       "      <td>1</td>\n",
       "      <td>1</td>\n",
       "      <td>0</td>\n",
       "      <td>1</td>\n",
       "      <td>1</td>\n",
       "      <td>0</td>\n",
       "      <td>1</td>\n",
       "      <td>...</td>\n",
       "      <td>0</td>\n",
       "      <td>0</td>\n",
       "      <td>1</td>\n",
       "      <td>0</td>\n",
       "      <td>1</td>\n",
       "      <td>0</td>\n",
       "      <td>0</td>\n",
       "      <td>0</td>\n",
       "      <td>0</td>\n",
       "      <td>0</td>\n",
       "    </tr>\n",
       "    <tr>\n",
       "      <th>15277</th>\n",
       "      <td>1</td>\n",
       "      <td>42</td>\n",
       "      <td>73</td>\n",
       "      <td>1</td>\n",
       "      <td>0</td>\n",
       "      <td>0</td>\n",
       "      <td>1</td>\n",
       "      <td>0</td>\n",
       "      <td>1</td>\n",
       "      <td>0</td>\n",
       "      <td>...</td>\n",
       "      <td>0</td>\n",
       "      <td>1</td>\n",
       "      <td>1</td>\n",
       "      <td>1</td>\n",
       "      <td>0</td>\n",
       "      <td>1</td>\n",
       "      <td>0</td>\n",
       "      <td>0</td>\n",
       "      <td>0</td>\n",
       "      <td>0</td>\n",
       "    </tr>\n",
       "    <tr>\n",
       "      <th>15278</th>\n",
       "      <td>0</td>\n",
       "      <td>13</td>\n",
       "      <td>378</td>\n",
       "      <td>0</td>\n",
       "      <td>1</td>\n",
       "      <td>0</td>\n",
       "      <td>0</td>\n",
       "      <td>1</td>\n",
       "      <td>0</td>\n",
       "      <td>0</td>\n",
       "      <td>...</td>\n",
       "      <td>0</td>\n",
       "      <td>1</td>\n",
       "      <td>1</td>\n",
       "      <td>1</td>\n",
       "      <td>0</td>\n",
       "      <td>0</td>\n",
       "      <td>0</td>\n",
       "      <td>1</td>\n",
       "      <td>0</td>\n",
       "      <td>0</td>\n",
       "    </tr>\n",
       "    <tr>\n",
       "      <th>15279</th>\n",
       "      <td>1</td>\n",
       "      <td>16</td>\n",
       "      <td>715</td>\n",
       "      <td>1</td>\n",
       "      <td>1</td>\n",
       "      <td>0</td>\n",
       "      <td>0</td>\n",
       "      <td>1</td>\n",
       "      <td>1</td>\n",
       "      <td>0</td>\n",
       "      <td>...</td>\n",
       "      <td>0</td>\n",
       "      <td>1</td>\n",
       "      <td>1</td>\n",
       "      <td>1</td>\n",
       "      <td>0</td>\n",
       "      <td>0</td>\n",
       "      <td>0</td>\n",
       "      <td>0</td>\n",
       "      <td>1</td>\n",
       "      <td>0</td>\n",
       "    </tr>\n",
       "    <tr>\n",
       "      <th>15280</th>\n",
       "      <td>0</td>\n",
       "      <td>49</td>\n",
       "      <td>110</td>\n",
       "      <td>0</td>\n",
       "      <td>0</td>\n",
       "      <td>0</td>\n",
       "      <td>1</td>\n",
       "      <td>0</td>\n",
       "      <td>0</td>\n",
       "      <td>0</td>\n",
       "      <td>...</td>\n",
       "      <td>0</td>\n",
       "      <td>1</td>\n",
       "      <td>1</td>\n",
       "      <td>0</td>\n",
       "      <td>1</td>\n",
       "      <td>0</td>\n",
       "      <td>0</td>\n",
       "      <td>0</td>\n",
       "      <td>0</td>\n",
       "      <td>0</td>\n",
       "    </tr>\n",
       "  </tbody>\n",
       "</table>\n",
       "<p>15281 rows × 21 columns</p>\n",
       "</div>"
      ],
      "text/plain": [
       "       outcome  days_in_shelter  age_in_days  name_yes  type_DOG  type_OTHER  \\\n",
       "0            1                6          101         1         0           0   \n",
       "1            1               20         1116         1         0           0   \n",
       "2            1               18          129         1         0           0   \n",
       "3            1               18          129         1         0           0   \n",
       "4            1                1          398         1         1           0   \n",
       "...        ...              ...          ...       ...       ...         ...   \n",
       "15276        1               29         2192         1         1           0   \n",
       "15277        1               42           73         1         0           0   \n",
       "15278        0               13          378         0         1           0   \n",
       "15279        1               16          715         1         1           0   \n",
       "15280        0               49          110         0         0           0   \n",
       "\n",
       "       breed_pure  color_single  gonadectomy_yes  size_MED  ...  size_X-LRG  \\\n",
       "0               1             0                1         0  ...           0   \n",
       "1               1             0                1         0  ...           0   \n",
       "2               1             0                1         0  ...           0   \n",
       "3               1             1                1         0  ...           0   \n",
       "4               0             1                1         1  ...           0   \n",
       "...           ...           ...              ...       ...  ...         ...   \n",
       "15276           1             1                0         1  ...           0   \n",
       "15277           1             0                1         0  ...           0   \n",
       "15278           0             1                0         0  ...           0   \n",
       "15279           0             1                1         0  ...           0   \n",
       "15280           1             0                0         0  ...           0   \n",
       "\n",
       "       size_X_SMALL  intake_type_STRAY  outcome_condition_positive  \\\n",
       "0                 1                  0                           0   \n",
       "1                 0                  1                           0   \n",
       "2                 1                  1                           1   \n",
       "3                 1                  1                           1   \n",
       "4                 0                  0                           0   \n",
       "...             ...                ...                         ...   \n",
       "15276             0                  1                           0   \n",
       "15277             1                  1                           1   \n",
       "15278             1                  1                           1   \n",
       "15279             1                  1                           1   \n",
       "15280             1                  1                           0   \n",
       "\n",
       "       outcome_day_of_week_1  outcome_day_of_week_2  outcome_day_of_week_3  \\\n",
       "0                          0                      0                      0   \n",
       "1                          0                      0                      0   \n",
       "2                          0                      1                      0   \n",
       "3                          0                      1                      0   \n",
       "4                          0                      0                      0   \n",
       "...                      ...                    ...                    ...   \n",
       "15276                      1                      0                      0   \n",
       "15277                      0                      1                      0   \n",
       "15278                      0                      0                      0   \n",
       "15279                      0                      0                      0   \n",
       "15280                      1                      0                      0   \n",
       "\n",
       "       outcome_day_of_week_4  outcome_day_of_week_5  outcome_day_of_week_6  \n",
       "0                          1                      0                      0  \n",
       "1                          1                      0                      0  \n",
       "2                          0                      0                      0  \n",
       "3                          0                      0                      0  \n",
       "4                          1                      0                      0  \n",
       "...                      ...                    ...                    ...  \n",
       "15276                      0                      0                      0  \n",
       "15277                      0                      0                      0  \n",
       "15278                      1                      0                      0  \n",
       "15279                      0                      1                      0  \n",
       "15280                      0                      0                      0  \n",
       "\n",
       "[15281 rows x 21 columns]"
      ]
     },
     "execution_count": 63,
     "metadata": {},
     "output_type": "execute_result"
    }
   ],
   "source": [
    "df_short"
   ]
  },
  {
   "cell_type": "code",
   "execution_count": 64,
   "id": "00057989",
   "metadata": {},
   "outputs": [],
   "source": [
    "df_short.to_csv('EDA-N.csv')"
   ]
  },
  {
   "cell_type": "code",
   "execution_count": null,
   "id": "fae29b57",
   "metadata": {},
   "outputs": [],
   "source": []
  }
 ],
 "metadata": {
  "kernelspec": {
   "display_name": "Python 3",
   "language": "python",
   "name": "python3"
  },
  "language_info": {
   "codemirror_mode": {
    "name": "ipython",
    "version": 3
   },
   "file_extension": ".py",
   "mimetype": "text/x-python",
   "name": "python",
   "nbconvert_exporter": "python",
   "pygments_lexer": "ipython3",
   "version": "3.8.8"
  }
 },
 "nbformat": 4,
 "nbformat_minor": 5
}
